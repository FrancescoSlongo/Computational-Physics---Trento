{
 "cells": [
  {
   "cell_type": "code",
   "execution_count": 1,
   "metadata": {},
   "outputs": [
    {
     "name": "stdout",
     "output_type": "stream",
     "text": [
      "Using matplotlib backend: Qt5Agg\n"
     ]
    }
   ],
   "source": [
    "import numpy as np\n",
    "import matplotlib.pyplot as plt\n",
    "import matplotlib\n",
    "import scipy.integrate as integ\n",
    "%matplotlib"
   ]
  },
  {
   "cell_type": "code",
   "execution_count": 4,
   "metadata": {},
   "outputs": [
    {
     "data": {
      "text/plain": [
       "array([0.00061293, 0.00122587, 0.0018388 , ..., 0.00185643, 0.00184057,\n",
       "       0.00182483])"
      ]
     },
     "execution_count": 4,
     "metadata": {},
     "output_type": "execute_result"
    }
   ],
   "source": [
    "a = np.loadtxt('output.txt')\n",
    "a"
   ]
  },
  {
   "cell_type": "code",
   "execution_count": 52,
   "metadata": {},
   "outputs": [
    {
     "data": {
      "text/plain": [
       "array([ 9.39223233,  9.39223383,  9.3922343 , ..., 24.4930005 ,\n",
       "       24.5       , 24.5070005 ])"
      ]
     },
     "execution_count": 52,
     "metadata": {},
     "output_type": "execute_result"
    }
   ],
   "source": [
    "v = np.loadtxt('potenziale.txt')\n",
    "v"
   ]
  },
  {
   "cell_type": "code",
   "execution_count": 6,
   "metadata": {},
   "outputs": [],
   "source": [
    "i=1\n",
    "data=np.empty((10, a.size))\n",
    "pote=np.empty((10,a.size))"
   ]
  },
  {
   "cell_type": "code",
   "execution_count": 21,
   "metadata": {},
   "outputs": [],
   "source": [
    "data[i]=np.loadtxt('output.txt')\n",
    "pote[i]=np.loadtxt('potenziale.txt')\n",
    "i+=1"
   ]
  },
  {
   "cell_type": "code",
   "execution_count": 26,
   "metadata": {},
   "outputs": [],
   "source": [
    "plt.rcParams.update({'font.size':14})\n",
    "plt.figure()\n",
    "ax1 = plt.axes()\n",
    "for i in [1,2,3,4,5,0]: ax1.plot(np.arange(a.size)*2e-3, data[i], label=r'$\\alpha={}$'.format(i+2)) \n",
    "plt.grid(True)\n",
    "plt.ylim([-.05, 1])\n",
    "plt.legend(loc='upper center')\n",
    "ax2 = ax1.twinx()\n",
    "for i in [1,2,3,4,5,0]: ax2.plot(np.arange(a.size)*2e-3, pote[i],alpha=.5, )\n",
    "\n",
    "plt.ylim([-1, 20])\n",
    "plt.yticks([0,4,8,12,16,20])\n",
    "plt.show()"
   ]
  },
  {
   "cell_type": "code",
   "execution_count": 8,
   "metadata": {},
   "outputs": [],
   "source": [
    "GS=2/np.pi**(0.25)*(np.arange(0,6,6/a.size))*np.exp(-(np.arange(0,6,6/a.size))**2/2)\n",
    "GSP=0.5*(np.arange(0,6,6/a.size)+6/a.size)*(np.arange(0,6,6/a.size)+6/a.size)\n",
    "plt.figure()\n",
    "plt.plot(np.arange(a.size)*2e-3, GS)\n",
    "plt.plot(np.arange(a.size)*2e-3, a)\n",
    "#plt.plot(np.arange(a.size)*1e-4, GSP)\n",
    "#plt.plot(np.arange(a.size)*1e-4, v)\n",
    "#plt.plot(range(a.size), a-GS)\n",
    "plt.grid(True)\n",
    "plt.show()"
   ]
  },
  {
   "cell_type": "code",
   "execution_count": 9,
   "metadata": {},
   "outputs": [],
   "source": [
    "data[0]=GS\n",
    "pote[0]=GSP"
   ]
  },
  {
   "cell_type": "code",
   "execution_count": 11,
   "metadata": {},
   "outputs": [],
   "source": [
    "vdf = np.loadtxt('pdiff.txt')"
   ]
  },
  {
   "cell_type": "code",
   "execution_count": 12,
   "metadata": {},
   "outputs": [],
   "source": [
    "plt.figure()\n",
    "plt.semilogy(np.arange(vdf.size), np.abs(vdf))\n",
    "plt.grid(True)\n",
    "plt.show()"
   ]
  },
  {
   "cell_type": "code",
   "execution_count": 33,
   "metadata": {},
   "outputs": [
    {
     "name": "stderr",
     "output_type": "stream",
     "text": [
      "No handles with labels found to put in legend.\n"
     ]
    }
   ],
   "source": [
    "plt.figure(1)\n",
    "ax2.legend(frameon=False)\n",
    "plt.show()"
   ]
  },
  {
   "cell_type": "code",
   "execution_count": null,
   "metadata": {},
   "outputs": [],
   "source": []
  }
 ],
 "metadata": {
  "kernelspec": {
   "display_name": "Python 3",
   "language": "python",
   "name": "python3"
  },
  "language_info": {
   "codemirror_mode": {
    "name": "ipython",
    "version": 3
   },
   "file_extension": ".py",
   "mimetype": "text/x-python",
   "name": "python",
   "nbconvert_exporter": "python",
   "pygments_lexer": "ipython3",
   "version": "3.7.6"
  }
 },
 "nbformat": 4,
 "nbformat_minor": 4
}
