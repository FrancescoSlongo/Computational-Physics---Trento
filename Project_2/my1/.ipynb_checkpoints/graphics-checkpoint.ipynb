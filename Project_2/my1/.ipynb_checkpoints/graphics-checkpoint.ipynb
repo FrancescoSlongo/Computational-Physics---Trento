{
 "cells": [
  {
   "cell_type": "code",
   "execution_count": 15,
   "metadata": {},
   "outputs": [
    {
     "name": "stdout",
     "output_type": "stream",
     "text": [
      "Using matplotlib backend: Qt5Agg\n"
     ]
    }
   ],
   "source": [
    "import matplotlib.pyplot as plt\n",
    "import numpy as np\n",
    "import scipy.integrate as integ\n",
    "import matplotlib\n",
    "from matplotlib import cm\n",
    "from mpl_toolkits.mplot3d import Axes3D\n",
    "from may\n",
    "%matplotlib\n",
    "%config InlineBackend.figure_formats=set(['retina'])"
   ]
  },
  {
   "cell_type": "code",
   "execution_count": 47,
   "metadata": {},
   "outputs": [],
   "source": [
    "#graphic of the overlap between a gaussian function and an exponential one\n",
    "x = np.arange(-3,3,0.01)\n",
    "plt.figure()\n",
    "plt.plot(x, np.exp(-np.abs(x)))\n",
    "plt.plot(x, np.exp(- x**2))\n",
    "plt.text(0.0, 0.65, r'$\\Psi_{GS}$', fontsize=15, color='tab:blue')\n",
    "plt.text(0.4, .9, r'$\\Phi_i$', fontsize=15, color='tab:orange')\n",
    "plt.grid()\n",
    "plt.show()"
   ]
  },
  {
   "cell_type": "code",
   "execution_count": 81,
   "metadata": {},
   "outputs": [],
   "source": [
    "#graphic of the energy functional in the case of only one gaussian\n",
    "E = lambda x : (3*x*np.sqrt(2*np.pi)-8 *np.sqrt(x))/2/np.sqrt(2*np.pi)\n",
    "plt.figure()\n",
    "plt.plot(np.arange(0,3,.0001),E(np.arange(0,3,.0001)))\n",
    "plt.grid()\n",
    "plt.xlabel(r'$\\alpha \\, \\, [a_0^{-2}]$')\n",
    "plt.ylabel(r'$\\varepsilon \\, \\, [E_h]$')\n",
    "plt.show()"
   ]
  },
  {
   "cell_type": "code",
   "execution_count": 83,
   "metadata": {},
   "outputs": [],
   "source": [
    "#graphic of the energy functional in the case of two gaussians\n",
    "z = np.loadtxt('output.txt')"
   ]
  },
  {
   "cell_type": "code",
   "execution_count": 84,
   "metadata": {},
   "outputs": [],
   "source": [
    "#interpolation of nan values\n",
    "x=np.arange(0.01,4.01,0.01)\n",
    "y=np.arange(0.01,4.01,0.01)\n",
    "xnan=np.array([])\n",
    "ynan=np.array([])\n",
    "znan=np.array([])\n",
    "\n",
    "for i in range(z.shape[0]):\n",
    "    for j in range(z.shape[1]):\n",
    "        if np.isnan(z[i,j]):\n",
    "            z[i,j]=z[i-1,j]\n",
    "            xnan=np.append(xnan, x[i])\n",
    "            ynan=np.append(ynan, y[j])\n",
    "            znan=np.append(znan, z[i-1,j]+0.05)\n",
    "x,y= np.meshgrid(x,y)"
   ]
  },
  {
   "cell_type": "code",
   "execution_count": 87,
   "metadata": {},
   "outputs": [],
   "source": [
    "fig=plt.figure()\n",
    "ax=Axes3D(fig)\n",
    "ax.plot_surface(x,y,z, rcount=50, ccount=50, cmap=cm.viridis, antialiased=False, shade=False, zorder=0.5)\n",
    "ax.plot3D(xnan,ynan,znan, color='r', zorder=0.3)\n",
    "\n",
    "plt.show()"
   ]
  },
  {
   "cell_type": "code",
   "execution_count": 179,
   "metadata": {},
   "outputs": [],
   "source": [
    "#plot of hydrogen eigenfunctions\n",
    "X = np.arange(-5, 5, 0.25)\n",
    "Y = np.arange(-5, 5, 0.25)\n",
    "X, Y = np.meshgrid(X, Y)\n",
    "s2 = np.exp(-(X**2 + Y**2)/2)*(2-(X**2+Y**2))\n",
    "#p20 = np.exp(-(X**2 + Y**2)/2)/(X**2+Y**2)*np.cos(np.arctan2(Y,X))\n",
    "p20[np.isnan(p20)]=0\n",
    "p20[np.isinf(p20)]=0\n",
    "\n",
    "fig = plt.figure()\n",
    "ax = Axes3D(fig)\n",
    "ax.plot_surface(X, Y, s2,  cmap=cm.viridis)\n",
    "\n",
    "plt.show()"
   ]
  },
  {
   "cell_type": "code",
   "execution_count": 40,
   "metadata": {},
   "outputs": [],
   "source": [
    "#comparison between true gr wf and our linear combination of gaussians\n",
    "x=np.arange(0,7,0.01)\n",
    "alpha = np.array([0.6869, 4.5119, 0.1524])\n",
    "N=0\n",
    "for i in range(alpha.size):\n",
    "    for j in range(alpha.size):\n",
    "        N+= (np.pi/(alpha[j]+alpha[i]))**(3/2)\n",
    "\n",
    "plt.figure()\n",
    "plt.plot(x, np.exp(-x), label='true GS')\n",
    "plt.plot(x, 2*(np.exp(-alpha[0]* x**2)+np.exp(-alpha[1]*x**2)+np.exp(-alpha[2]*x**2))/np.sqrt(N), \n",
    "         label='3 gaussian approx')\n",
    "plt.legend()\n",
    "plt.grid()\n",
    "plt.show()"
   ]
  },
  {
   "cell_type": "code",
   "execution_count": 38,
   "metadata": {},
   "outputs": [
    {
     "data": {
      "text/plain": [
       "(1.0292913033106394, 2.3126769787175513e-14)"
      ]
     },
     "execution_count": 38,
     "metadata": {},
     "output_type": "execute_result"
    }
   ],
   "source": [
    "integ.quad(lambda x:2*(np.exp(-alpha[0]* x**2)+np.exp(-alpha[1]*x**2)+np.exp(-alpha[2]*x**2))/N**(1/2),0.,10.)"
   ]
  },
  {
   "cell_type": "code",
   "execution_count": 39,
   "metadata": {},
   "outputs": [
    {
     "data": {
      "text/plain": [
       "(0.9999546000702375, 2.8326146575791917e-14)"
      ]
     },
     "execution_count": 39,
     "metadata": {},
     "output_type": "execute_result"
    }
   ],
   "source": [
    "integ.quad(lambda x: np.exp(-x),0.,10.)"
   ]
  },
  {
   "cell_type": "code",
   "execution_count": 64,
   "metadata": {},
   "outputs": [
    {
     "data": {
      "text/plain": [
       "array([], dtype=float64)"
      ]
     },
     "execution_count": 64,
     "metadata": {},
     "output_type": "execute_result"
    }
   ],
   "source": [
    "xnan"
   ]
  },
  {
   "cell_type": "code",
   "execution_count": null,
   "metadata": {},
   "outputs": [],
   "source": []
  }
 ],
 "metadata": {
  "kernelspec": {
   "display_name": "Python 3",
   "language": "python",
   "name": "python3"
  },
  "language_info": {
   "codemirror_mode": {
    "name": "ipython",
    "version": 3
   },
   "file_extension": ".py",
   "mimetype": "text/x-python",
   "name": "python",
   "nbconvert_exporter": "python",
   "pygments_lexer": "ipython3",
   "version": "3.7.6"
  }
 },
 "nbformat": 4,
 "nbformat_minor": 4
}
