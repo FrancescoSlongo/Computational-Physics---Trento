{
 "cells": [
  {
   "cell_type": "code",
   "execution_count": 1,
   "metadata": {},
   "outputs": [
    {
     "name": "stdout",
     "output_type": "stream",
     "text": [
      "Using matplotlib backend: Qt5Agg\n"
     ]
    }
   ],
   "source": [
    "import matplotlib.pyplot as plt\n",
    "import numpy as np\n",
    "import scipy.integrate as integ\n",
    "import matplotlib\n",
    "from matplotlib import cm\n",
    "from mpl_toolkits.mplot3d import Axes3D\n",
    "%matplotlib\n",
    "%config InlineBackend.figure_formats=set(['retina'])"
   ]
  },
  {
   "cell_type": "code",
   "execution_count": 5,
   "metadata": {},
   "outputs": [],
   "source": [
    "#graphic of the overlap between a gaussian function and an exponential one\n",
    "x = np.arange(-3,3,0.01)\n",
    "plt.figure()\n",
    "plt.plot(x, np.exp(-np.abs(x)), label='Exponential')\n",
    "plt.plot(x, np.exp(- x**2),label='Gaussian')\n",
    "plt.legend()\n",
    "plt.grid()\n",
    "plt.show()"
   ]
  },
  {
   "cell_type": "code",
   "execution_count": 81,
   "metadata": {},
   "outputs": [],
   "source": [
    "#graphic of the energy functional in the case of only one gaussian\n",
    "E = lambda x : (3*x*np.sqrt(2*np.pi)-8 *np.sqrt(x))/2/np.sqrt(2*np.pi)\n",
    "plt.figure()\n",
    "plt.plot(np.arange(0,3,.0001),E(np.arange(0,3,.0001)))\n",
    "plt.grid()\n",
    "plt.xlabel(r'$\\alpha \\, \\, [a_0^{-2}]$')\n",
    "plt.ylabel(r'$\\varepsilon \\, \\, [E_h]$')\n",
    "plt.show()"
   ]
  },
  {
   "cell_type": "code",
   "execution_count": 13,
   "metadata": {},
   "outputs": [],
   "source": [
    "#graphic of the energy functional in the case of two gaussians\n",
    "z = np.loadtxt('output.txt')"
   ]
  },
  {
   "cell_type": "code",
   "execution_count": 14,
   "metadata": {},
   "outputs": [],
   "source": [
    "#interpolation of nan values\n",
    "x=np.arange(0.01,4.01,0.01)\n",
    "y=np.arange(0.01,4.01,0.01)\n",
    "xnan=np.array([])\n",
    "ynan=np.array([])\n",
    "znan=np.array([])\n",
    "\n",
    "for i in range(z.shape[0]):\n",
    "    for j in range(z.shape[1]):\n",
    "        if np.isnan(z[i,j]):\n",
    "            z[i,j]=z[i-1,j]\n",
    "            xnan=np.append(xnan, x[i])\n",
    "            ynan=np.append(ynan, y[j])\n",
    "            znan=np.append(znan, z[i-1,j])\n",
    "x,y= np.meshgrid(x,y)"
   ]
  },
  {
   "cell_type": "code",
   "execution_count": 17,
   "metadata": {},
   "outputs": [],
   "source": [
    "fig=plt.figure()\n",
    "ax=Axes3D(fig)\n",
    "ax.plot_surface(x,y,z, rcount=10, ccount=10, cmap=cm.viridis, antialiased=False, shade=False)\n",
    "ax.scatter(xnan,ynan,znan,c='r',s=3,depthshade=False)\n",
    "#ax.plot(xnan,ynan,znan,color='r')\n",
    "ax.view_init(elev=28., azim=-91.)\n",
    "plt.show()"
   ]
  },
  {
   "cell_type": "code",
   "execution_count": 9,
   "metadata": {},
   "outputs": [],
   "source": [
    "#plot of hydrogen eigenfunctions\n",
    "X = np.arange(-5, 5, 0.1)\n",
    "Y = np.arange(-5, 5, 0.1)\n",
    "X, Y = np.meshgrid(X, Y)\n",
    "s2 = np.exp(-(X**2 + Y**2)/2)*(2-(X**2+Y**2))\n",
    "p20 = np.exp(-(X**2 + Y**2)/2)*(X**2+Y**2)*np.cos(np.arctan2(Y,X))\n",
    "p20[np.isnan(p20)]=0\n",
    "p20[np.isinf(p20)]=0\n",
    "\n",
    "fig = plt.figure()\n",
    "ax = Axes3D(fig)\n",
    "ax.plot_surface(X, Y, p20,  cmap=cm.viridis, rcount=50, ccount=50, antialiased=False)\n",
    "\n",
    "plt.show()"
   ]
  },
  {
   "cell_type": "code",
   "execution_count": 10,
   "metadata": {},
   "outputs": [
    {
     "name": "stderr",
     "output_type": "stream",
     "text": [
      "/home/filippo/anaconda3/lib/python3.7/site-packages/ipykernel/eventloops.py:106: UserWarning: This figure includes Axes that are not compatible with tight_layout, so results might be incorrect.\n",
      "  app.exec_()\n"
     ]
    }
   ],
   "source": [
    "#plot of sums of gaussian s states and p states\n",
    "X = np.arange(-5, 5, 0.01)\n",
    "Y = np.arange(-5, 5, 0.01)\n",
    "X, Y = np.meshgrid(X, Y)\n",
    "\n",
    "wf=(X)*np.exp(-(X**2+Y**2))\n",
    "\n",
    "fig = plt.figure()\n",
    "ax = Axes3D(fig)\n",
    "ax.plot_surface(X, Y, wf, rcount=100, ccount=100, cmap=cm.viridis, antialiased=False)\n",
    "\n",
    "plt.show()"
   ]
  },
  {
   "cell_type": "code",
   "execution_count": 67,
   "metadata": {},
   "outputs": [],
   "source": [
    "#comparison between true gr wf and our linear combination of 1 gaussians\n",
    "x=np.arange(0,7,0.01)\n",
    "alpha = np.array([0.28294])\n",
    "\n",
    "N=0\n",
    "for i in range(alpha.size):\n",
    "    for j in range(alpha.size):\n",
    "        N+= (np.pi/(alpha[j]+alpha[i]))**(3/2)\n",
    "\n",
    "plt.figure()\n",
    "plt.plot(x, np.exp(-x)/np.sqrt(np.pi), label='True GS')\n",
    "plt.plot(x, (np.exp(-alpha[0]* x**2))/np.sqrt(N), label='1 Gaussian approx')\n",
    "plt.ylabel(r'$\\Psi \\,\\, [a_0^{-3/2}]$')\n",
    "plt.xlabel(r'$r \\,\\, [a_0]$')\n",
    "plt.legend()\n",
    "plt.grid()\n",
    "plt.show()"
   ]
  },
  {
   "cell_type": "code",
   "execution_count": 65,
   "metadata": {},
   "outputs": [],
   "source": [
    "#comparison between true gr wf and our linear combination of 2 gaussians\n",
    "x=np.arange(0,7,0.01)\n",
    "alpha = np.array([0.20153, 1.3325])\n",
    "C = np.array([.5874, 0.8093])\n",
    "N=0\n",
    "for i in range(alpha.size):\n",
    "    for j in range(alpha.size):\n",
    "        N+= C[i]*C[j]*(np.pi/(alpha[j]+alpha[i]))**(3/2)\n",
    "\n",
    "plt.figure()\n",
    "plt.plot(x, np.exp(-x)/np.sqrt(np.pi), label='True GS')\n",
    "plt.plot(x, (C[0]*np.exp(-alpha[0]* x**2)+C[1]*np.exp(-alpha[1]*x**2))/np.sqrt(N), label='2 Gaussian approx')\n",
    "plt.plot(x, (C[0]*np.exp(-alpha[0]* x**2))/np.sqrt(N), label='#1 Gaussian')\n",
    "plt.plot(x, (C[1]*np.exp(-alpha[1]*x**2))/np.sqrt(N), label='#2 Gaussian')\n",
    "plt.legend()\n",
    "plt.ylabel(r'$\\Psi \\,\\, [a_0^{-3/2}]$')\n",
    "plt.xlabel(r'$r \\,\\, [a_0]$')\n",
    "plt.grid()\n",
    "plt.show()"
   ]
  },
  {
   "cell_type": "code",
   "execution_count": 66,
   "metadata": {},
   "outputs": [],
   "source": [
    "#comparison between true gr wf and our linear combination of 3 gaussians\n",
    "x=np.arange(0,7,0.01)\n",
    "alpha = np.array([0.6813, 4.50036, 0.15137])\n",
    "C = np.array([.75145, 0.53498, .38616])\n",
    "N=0\n",
    "for i in range(alpha.size):\n",
    "    for j in range(alpha.size):\n",
    "        N+= C[i]*C[j]*(np.pi/(alpha[j]+alpha[i]))**(3/2)\n",
    "\n",
    "plt.figure()\n",
    "plt.plot(x, np.exp(-x)/np.sqrt(np.pi), label='True GS')\n",
    "plt.plot(x, (C[0]*np.exp(-alpha[0]* x**2)+C[1]*np.exp(-alpha[1]*x**2)+\n",
    "               C[2]*np.exp(-alpha[2]*x**2))/np.sqrt(N), label='3 Gaussian approx')\n",
    "plt.plot(x, (C[0]*np.exp(-alpha[0]* x**2))/np.sqrt(N), label='#1 Gaussian')\n",
    "plt.plot(x, (C[1]*np.exp(-alpha[1]*x**2))/np.sqrt(N), label='#2 Gaussian')\n",
    "plt.plot(x, (C[2]*np.exp(-alpha[2]* x**2))/np.sqrt(N), label='#3 Gaussian')\n",
    "plt.legend()\n",
    "plt.ylabel(r'$\\Psi \\,\\, [a_0^{-3/2}]$')\n",
    "plt.xlabel(r'$r \\,\\, [a_0]$')\n",
    "plt.grid()\n",
    "plt.show()"
   ]
  },
  {
   "cell_type": "code",
   "execution_count": 63,
   "metadata": {},
   "outputs": [],
   "source": [
    "#comparison between STO-3G gr wf and our linear combination of 3 gaussians\n",
    "x=np.arange(0,15,0.01)\n",
    "alpha = np.array([0.6813, 4.50036, 0.15137])\n",
    "C = np.array([.75145, 0.53498, .38616])\n",
    "beta = np.array([0.109818, 0.405771, 2.22776])\n",
    "B = np.array([.220688, .692622, .686711])\n",
    "#B=np.array([.44, .53, .15])\n",
    "N=0\n",
    "NS =0\n",
    "for i in range(alpha.size):\n",
    "    for j in range(alpha.size):\n",
    "        N+= C[i]*C[j]*(np.pi/(alpha[j]+alpha[i]))**(3/2)\n",
    "        NS+= B[i]*B[j]*(np.pi/(beta[j]+beta[i]))**(3/2)\n",
    "\n",
    "plt.figure()\n",
    "plt.loglog(x, np.exp(-x)/np.sqrt(np.pi), label='True GS')\n",
    "plt.plot(x, (C[0]*np.exp(-alpha[0]* x**2)+C[1]*np.exp(-alpha[1]*x**2)+\n",
    "               C[2]*np.exp(-alpha[2]*x**2))/np.sqrt(N), label='3 Gaussian approx')\n",
    "plt.plot(x, (B[0]*np.exp(-beta[0]* x**2)+B[1]*np.exp(-beta[1]*x**2)+\n",
    "               B[2]*np.exp(-beta[2]*x**2))/np.sqrt(NS), label='STO-3G')\n",
    "plt.legend()\n",
    "plt.grid()\n",
    "plt.show()"
   ]
  },
  {
   "cell_type": "code",
   "execution_count": 26,
   "metadata": {},
   "outputs": [
    {
     "data": {
      "text/plain": [
       "(0.9999999999999998, 1.301235571412305e-08)"
      ]
     },
     "execution_count": 26,
     "metadata": {},
     "output_type": "execute_result"
    }
   ],
   "source": [
    "integ.quad(lambda x:4*np.pi*x*x*np.abs((C[0]*np.exp(-alpha[0]* x**2)+C[1]*np.exp(-alpha[1]*x**2)\n",
    "                         +C[2]*np.exp(-alpha[2]*x**2))/N**(1/2))**2,0.,100.)"
   ]
  },
  {
   "cell_type": "code",
   "execution_count": 31,
   "metadata": {},
   "outputs": [
    {
     "data": {
      "text/plain": [
       "(1.0, 1.0890648178653789e-10)"
      ]
     },
     "execution_count": 31,
     "metadata": {},
     "output_type": "execute_result"
    }
   ],
   "source": [
    "integ.quad(lambda x:4*np.pi*x*x*np.abs((B[0]*np.exp(-beta[0]* x**2)+B[1]*np.exp(-beta[1]*x**2)\n",
    "                         +B[2]*np.exp(-beta[2]*x**2))/NS**(1/2))**2,0.,100.)"
   ]
  },
  {
   "cell_type": "code",
   "execution_count": 25,
   "metadata": {},
   "outputs": [
    {
     "data": {
      "text/plain": [
       "(1.0, 6.8740507175313326e-09)"
      ]
     },
     "execution_count": 25,
     "metadata": {},
     "output_type": "execute_result"
    }
   ],
   "source": [
    "integ.quad(lambda x: 4*np.pi*x*x*np.abs(np.exp(-x)/np.sqrt(np.pi))**2,0.,100)"
   ]
  },
  {
   "cell_type": "code",
   "execution_count": 41,
   "metadata": {},
   "outputs": [
    {
     "data": {
      "text/plain": [
       "0.0006234279170271861"
      ]
     },
     "execution_count": 41,
     "metadata": {},
     "output_type": "execute_result"
    }
   ],
   "source": [
    "#numerical comparison of WFs\n",
    "1-integ.quad(lambda x: 4*np.pi*x*x*(C[0]*np.exp(-alpha[0]* x**2)+C[1]*np.exp(-alpha[1]*x**2)\n",
    "                         +C[2]*np.exp(-alpha[2]*x**2))/N**(1/2)*np.exp(-x)/np.sqrt(np.pi),0.,1000.)[0]"
   ]
  },
  {
   "cell_type": "code",
   "execution_count": 42,
   "metadata": {},
   "outputs": [
    {
     "data": {
      "text/plain": [
       "0.0002048259613849357"
      ]
     },
     "execution_count": 42,
     "metadata": {},
     "output_type": "execute_result"
    }
   ],
   "source": [
    "1-integ.quad(lambda x: 4*np.pi*x*x*(B[0]*np.exp(-beta[0]* x**2)+B[1]*np.exp(-beta[1]*x**2)\n",
    "                         +B[2]*np.exp(-beta[2]*x**2))/NS**(1/2)*np.exp(-x)/np.sqrt(np.pi),0.,1000.)[0]"
   ]
  },
  {
   "cell_type": "code",
   "execution_count": 58,
   "metadata": {},
   "outputs": [],
   "source": [
    "#comparison between true gr wf, 1st excited state wf and our linear combination of 1 p set gaussians\n",
    "x=np.arange(0,15,0.01)\n",
    "alpha = np.array([0.04527])\n",
    "\n",
    "N=0\n",
    "for i in range(alpha.size):\n",
    "    for j in range(alpha.size):\n",
    "        N+= (np.pi)**(3/2)/2*(alpha[j]+alpha[i])**(-5/2)\n",
    "\n",
    "plt.figure()\n",
    "#plt.plot(x, np.exp(-x)/np.sqrt(np.pi), label='True GS')\n",
    "#plt.plot(x, np.exp(-x/2)/np.sqrt(2*np.pi)/4*(2-x), label='2s')\n",
    "plt.plot(x, np.exp(-x/2)/np.sqrt(6*np.pi)/4*(x), label='True 2p')\n",
    "\n",
    "plt.plot(x, (x*np.exp(-alpha[0]* x**2))/np.sqrt(3*N), label='1 p-wave approx')\n",
    "plt.legend()\n",
    "plt.ylabel(r'$\\Psi \\,\\, [a_0^{-3/2}]$')\n",
    "plt.xlabel(r'$r \\,\\, [a_0]$')\n",
    "plt.grid()\n",
    "plt.show()"
   ]
  },
  {
   "cell_type": "code",
   "execution_count": 56,
   "metadata": {},
   "outputs": [],
   "source": [
    "#comparison between true gr wf, 1st excited state wf and our linear combination of 2 p set gaussians\n",
    "x=np.arange(0,15,0.01)\n",
    "#alpha = np.array([0.0327, .1401])\n",
    "#C = np.array([.367438, .930048])\n",
    "alpha = np.array([0.032392, 0.13928])\n",
    "C = np.array([0.36297, 0.931801])\n",
    "\n",
    "N=0\n",
    "for i in range(alpha.size):\n",
    "    for j in range(alpha.size):\n",
    "        N+= C[i]*C[j]*(np.pi)**(3/2)/2*(alpha[j]+alpha[i])**(-5/2)\n",
    "\n",
    "plt.figure()\n",
    "#plt.plot(x, np.exp(-x)/np.sqrt(np.pi), label='True GS')\n",
    "#plt.plot(x, np.exp(-x/2)/np.sqrt(2*np.pi)/4*(2-x), label='2s')\n",
    "plt.plot(x, np.exp(-x/2)/np.sqrt(6*np.pi)/4*(x), label='True 2p')\n",
    "\n",
    "plt.plot(x, (C[0]*x*np.exp(-alpha[0]* x**2)+C[1]*x*np.exp(-alpha[1]* x**2))/np.sqrt(3*N), \n",
    "         label='2 p-wave approx')\n",
    "plt.plot(x, (C[0]*x*np.exp(-alpha[0]* x**2))/np.sqrt(3*N), label='#1 p-wave')\n",
    "plt.plot(x, (C[1]*x*np.exp(-alpha[1]* x**2))/np.sqrt(3*N), label='#2 p-wave')\n",
    "plt.legend()\n",
    "plt.ylabel(r'$\\Psi \\,\\, [a_0^{-3/2}]$')\n",
    "plt.xlabel(r'$r \\,\\, [a_0]$')\n",
    "plt.grid()\n",
    "plt.show()"
   ]
  },
  {
   "cell_type": "code",
   "execution_count": 57,
   "metadata": {},
   "outputs": [],
   "source": [
    "#comparison between true gr wf, 1st excited state wf and our linear combination of 3 p set gaussians\n",
    "x=np.arange(0,15,0.01)\n",
    "#alpha = np.array([0.13498, .031523, 5.78805])\n",
    "#C = np.array([.773464, .288012, .564627])\n",
    "alpha=np.array([0.024685, 0.079834, 0.337073])\n",
    "C =np.array([0.17944, .637543, .749226])\n",
    "\n",
    "N=0\n",
    "for i in range(alpha.size):\n",
    "    for j in range(alpha.size):\n",
    "        N+= C[i]*C[j]*(np.pi)**(3/2)/2*(alpha[j]+alpha[i])**(-5/2)\n",
    "\n",
    "plt.figure()\n",
    "#plt.plot(x, np.exp(-x)/np.sqrt(np.pi), label='True GS')\n",
    "#plt.plot(x, np.exp(-x/2)/np.sqrt(2*np.pi)/4*(2-x), label='2s')\n",
    "plt.plot(x, np.exp(-x/2)/np.sqrt(6*np.pi)/4*(x), label='True 2p')\n",
    "\n",
    "plt.plot(x, (C[0]*x*np.exp(-alpha[0]* x**2)+C[1]*x*np.exp(-alpha[1]* x**2)+C[2]*x*np.exp(-alpha[2]* x**2))\n",
    "         /np.sqrt(3*N), label='3 p-wave approx')\n",
    "plt.plot(x, (C[0]*x*np.exp(-alpha[0]* x**2))/np.sqrt(3*N), label='#1 p-wave')\n",
    "plt.plot(x, (C[1]*x*np.exp(-alpha[1]* x**2))/np.sqrt(3*N), label='#2 p-wave')\n",
    "plt.plot(x, (C[2]*x*np.exp(-alpha[2]* x**2))/np.sqrt(3*N), label='#3 p-wave')\n",
    "\n",
    "plt.legend()\n",
    "plt.ylabel(r'$\\Psi \\,\\, [a_0^{-3/2}]$')\n",
    "plt.xlabel(r'$r \\,\\, [a_0]$')\n",
    "plt.grid()\n",
    "plt.show()"
   ]
  },
  {
   "cell_type": "code",
   "execution_count": 21,
   "metadata": {},
   "outputs": [
    {
     "data": {
      "text/plain": [
       "(1.0, 2.3893988238590227e-13)"
      ]
     },
     "execution_count": 21,
     "metadata": {},
     "output_type": "execute_result"
    }
   ],
   "source": [
    "integ.quad(lambda x:x*x*4*np.pi*np.abs(np.exp(-x/2)/np.sqrt(2*np.pi)/4*(2-x))**2, 0, 50.)"
   ]
  },
  {
   "cell_type": "code",
   "execution_count": 41,
   "metadata": {},
   "outputs": [
    {
     "data": {
      "text/plain": [
       "(3.0, 1.5312207928440868e-13)"
      ]
     },
     "execution_count": 41,
     "metadata": {},
     "output_type": "execute_result"
    }
   ],
   "source": [
    "integ.quad(lambda x:x*x*4*np.pi*np.abs(np.exp(-x/2)/np.sqrt(2*np.pi)/4*(x))**2, 0, 50.)"
   ]
  },
  {
   "cell_type": "code",
   "execution_count": 42,
   "metadata": {},
   "outputs": [
    {
     "data": {
      "text/plain": [
       "(2.9999999999999996, 1.266402596150029e-09)"
      ]
     },
     "execution_count": 42,
     "metadata": {},
     "output_type": "execute_result"
    }
   ],
   "source": [
    "integ.quad(lambda x: 4*np.pi*x*x*np.abs((C[0]*x*np.exp(-alpha[0]* x**2)+C[1]*x*np.exp(-alpha[1]* x**2)\n",
    "                                         +C[2]*x*np.exp(-alpha[2]* x**2))/np.sqrt(N))**2, 0, 50)"
   ]
  },
  {
   "cell_type": "code",
   "execution_count": null,
   "metadata": {},
   "outputs": [],
   "source": []
  }
 ],
 "metadata": {
  "kernelspec": {
   "display_name": "Python 3",
   "language": "python",
   "name": "python3"
  },
  "language_info": {
   "codemirror_mode": {
    "name": "ipython",
    "version": 3
   },
   "file_extension": ".py",
   "mimetype": "text/x-python",
   "name": "python",
   "nbconvert_exporter": "python",
   "pygments_lexer": "ipython3",
   "version": "3.7.6"
  }
 },
 "nbformat": 4,
 "nbformat_minor": 4
}
