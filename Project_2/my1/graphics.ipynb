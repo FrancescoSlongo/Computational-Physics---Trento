{
 "cells": [
  {
   "cell_type": "code",
   "execution_count": 2,
   "metadata": {},
   "outputs": [
    {
     "name": "stdout",
     "output_type": "stream",
     "text": [
      "Using matplotlib backend: Qt5Agg\n"
     ]
    }
   ],
   "source": [
    "import matplotlib.pyplot as plt\n",
    "import numpy as np\n",
    "import scipy.integrate as integ\n",
    "import matplotlib\n",
    "from matplotlib import cm\n",
    "from mpl_toolkits.mplot3d import Axes3D\n",
    "%matplotlib\n",
    "%config InlineBackend.figure_formats=set(['retina'])"
   ]
  },
  {
   "cell_type": "code",
   "execution_count": 47,
   "metadata": {},
   "outputs": [],
   "source": [
    "#graphic of the overlap between a gaussian function and an exponential one\n",
    "x = np.arange(-3,3,0.01)\n",
    "plt.figure()\n",
    "plt.plot(x, np.exp(-np.abs(x)))\n",
    "plt.plot(x, np.exp(- x**2))\n",
    "plt.text(0.0, 0.65, r'$\\Psi_{GS}$', fontsize=15, color='tab:blue')\n",
    "plt.text(0.4, .9, r'$\\Phi_i$', fontsize=15, color='tab:orange')\n",
    "plt.grid()\n",
    "plt.show()"
   ]
  },
  {
   "cell_type": "code",
   "execution_count": 81,
   "metadata": {},
   "outputs": [],
   "source": [
    "#graphic of the energy functional in the case of only one gaussian\n",
    "E = lambda x : (3*x*np.sqrt(2*np.pi)-8 *np.sqrt(x))/2/np.sqrt(2*np.pi)\n",
    "plt.figure()\n",
    "plt.plot(np.arange(0,3,.0001),E(np.arange(0,3,.0001)))\n",
    "plt.grid()\n",
    "plt.xlabel(r'$\\alpha \\, \\, [a_0^{-2}]$')\n",
    "plt.ylabel(r'$\\varepsilon \\, \\, [E_h]$')\n",
    "plt.show()"
   ]
  },
  {
   "cell_type": "code",
   "execution_count": 103,
   "metadata": {},
   "outputs": [],
   "source": [
    "#graphic of the energy functional in the case of two gaussians\n",
    "z = np.loadtxt('output.txt')"
   ]
  },
  {
   "cell_type": "code",
   "execution_count": 104,
   "metadata": {},
   "outputs": [],
   "source": [
    "#interpolation of nan values\n",
    "x=np.arange(0.01,4.01,0.01)\n",
    "y=np.arange(0.01,4.01,0.01)\n",
    "xnan=np.array([])\n",
    "ynan=np.array([])\n",
    "znan=np.array([])\n",
    "\n",
    "for i in range(z.shape[0]):\n",
    "    for j in range(z.shape[1]):\n",
    "        if np.isnan(z[i,j]):\n",
    "            z[i,j]=z[i-1,j]\n",
    "            xnan=np.append(xnan, x[i])\n",
    "            ynan=np.append(ynan, y[j])\n",
    "            znan=np.append(znan, z[i-1,j])\n",
    "x,y= np.meshgrid(x,y)"
   ]
  },
  {
   "cell_type": "code",
   "execution_count": 105,
   "metadata": {},
   "outputs": [],
   "source": [
    "fig=plt.figure()\n",
    "ax=Axes3D(fig)\n",
    "ax.plot_surface(x,y,z, rcount=100, ccount=100, cmap=cm.viridis, antialiased=False, shade=False)\n",
    "ax.scatter(xnan,ynan,znan,c='r',s=3,depthshade=False)\n",
    "#ax.plot(xnan,ynan,znan,color='r')\n",
    "ax.view_init(elev=28., azim=-91.)\n",
    "plt.show()"
   ]
  },
  {
   "cell_type": "code",
   "execution_count": 102,
   "metadata": {},
   "outputs": [],
   "source": [
    "#plot of hydrogen eigenfunctions\n",
    "X = np.arange(-5, 5, 0.25)\n",
    "Y = np.arange(-5, 5, 0.25)\n",
    "X, Y = np.meshgrid(X, Y)\n",
    "s2 = np.exp(-(X**2 + Y**2)/2)*(2-(X**2+Y**2))\n",
    "#p20 = np.exp(-(X**2 + Y**2)/2)/(X**2+Y**2)*np.cos(np.arctan2(Y,X))\n",
    "#p20[np.isnan(p20)]=0\n",
    "#p20[np.isinf(p20)]=0\n",
    "\n",
    "fig = plt.figure()\n",
    "ax = Axes3D(fig)\n",
    "ax.plot_surface(X, Y, s2,  cmap=cm.viridis)\n",
    "\n",
    "plt.show()"
   ]
  },
  {
   "cell_type": "code",
   "execution_count": 122,
   "metadata": {},
   "outputs": [],
   "source": [
    "#comparison between true gr wf and our linear combination of 1 gaussians\n",
    "x=np.arange(0,7,0.01)\n",
    "alpha = np.array([0.28294])\n",
    "\n",
    "N=0\n",
    "for i in range(alpha.size):\n",
    "    for j in range(alpha.size):\n",
    "        N+= (np.pi/(alpha[j]+alpha[i]))**(3/2)\n",
    "\n",
    "plt.figure()\n",
    "plt.plot(x, np.exp(-x)/np.sqrt(np.pi), label='True GS')\n",
    "plt.plot(x, (np.exp(-alpha[0]* x**2))/np.sqrt(N), label='1 Gaussian approx')\n",
    "plt.legend()\n",
    "plt.grid()\n",
    "plt.show()"
   ]
  },
  {
   "cell_type": "code",
   "execution_count": 123,
   "metadata": {},
   "outputs": [],
   "source": [
    "#comparison between true gr wf and our linear combination of 2 gaussians\n",
    "x=np.arange(0,7,0.01)\n",
    "alpha = np.array([0.20153, 1.3325])\n",
    "C = np.array([.5874, 0.8093])\n",
    "N=0\n",
    "for i in range(alpha.size):\n",
    "    for j in range(alpha.size):\n",
    "        N+= C[i]*C[j]*(np.pi/(alpha[j]+alpha[i]))**(3/2)\n",
    "\n",
    "plt.figure()\n",
    "plt.plot(x, np.exp(-x)/np.sqrt(np.pi), label='True GS')\n",
    "plt.plot(x, (C[0]*np.exp(-alpha[0]* x**2)+C[1]*np.exp(-alpha[1]*x**2))/np.sqrt(N), label='2 Gaussian approx')\n",
    "plt.legend()\n",
    "plt.grid()\n",
    "plt.show()"
   ]
  },
  {
   "cell_type": "code",
   "execution_count": 124,
   "metadata": {},
   "outputs": [],
   "source": [
    "#comparison between true gr wf and our linear combination of 3 gaussians\n",
    "x=np.arange(0,7,0.01)\n",
    "alpha = np.array([0.6813, 4.50036, 0.15137])\n",
    "C = np.array([.75145, 0.53498, .38616])\n",
    "N=0\n",
    "for i in range(alpha.size):\n",
    "    for j in range(alpha.size):\n",
    "        N+= C[i]*C[j]*(np.pi/(alpha[j]+alpha[i]))**(3/2)\n",
    "\n",
    "plt.figure()\n",
    "plt.plot(x, np.exp(-x)/np.sqrt(np.pi), label='True GS')\n",
    "plt.plot(x, (C[0]*np.exp(-alpha[0]* x**2)+C[1]*np.exp(-alpha[1]*x**2)+\n",
    "               C[2]*np.exp(-alpha[2]*x**2))/np.sqrt(N), label='3 Gaussian approx')\n",
    "plt.legend()\n",
    "plt.grid()\n",
    "plt.show()"
   ]
  },
  {
   "cell_type": "code",
   "execution_count": 108,
   "metadata": {},
   "outputs": [
    {
     "data": {
      "text/plain": [
       "(0.9999999999998118, 1.4729244723618378e-10)"
      ]
     },
     "execution_count": 108,
     "metadata": {},
     "output_type": "execute_result"
    }
   ],
   "source": [
    "integ.quad(lambda x:4*np.pi*x*x*np.abs((C[0]*np.exp(-alpha[0]* x**2)+C[1]*np.exp(-alpha[1]*x**2)\n",
    "                         +C[2]*np.exp(-alpha[2]*x**2))/N**(1/2))**2,0.,10.)"
   ]
  },
  {
   "cell_type": "code",
   "execution_count": 109,
   "metadata": {},
   "outputs": [
    {
     "data": {
      "text/plain": [
       "(0.9999995444850496, 4.2182649802086254e-11)"
      ]
     },
     "execution_count": 109,
     "metadata": {},
     "output_type": "execute_result"
    }
   ],
   "source": [
    "integ.quad(lambda x: 4*np.pi*x*x*np.abs(np.exp(-x)/np.sqrt(np.pi))**2,0.,10)"
   ]
  },
  {
   "cell_type": "code",
   "execution_count": null,
   "metadata": {},
   "outputs": [],
   "source": []
  }
 ],
 "metadata": {
  "kernelspec": {
   "display_name": "Python 3",
   "language": "python",
   "name": "python3"
  },
  "language_info": {
   "codemirror_mode": {
    "name": "ipython",
    "version": 3
   },
   "file_extension": ".py",
   "mimetype": "text/x-python",
   "name": "python",
   "nbconvert_exporter": "python",
   "pygments_lexer": "ipython3",
   "version": "3.7.6"
  }
 },
 "nbformat": 4,
 "nbformat_minor": 4
}
