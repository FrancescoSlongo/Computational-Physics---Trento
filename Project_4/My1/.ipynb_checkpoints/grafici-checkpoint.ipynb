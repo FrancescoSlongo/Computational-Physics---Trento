{
 "cells": [
  {
   "cell_type": "code",
   "execution_count": 1,
   "metadata": {
    "scrolled": true
   },
   "outputs": [
    {
     "name": "stdout",
     "output_type": "stream",
     "text": [
      "Using matplotlib backend: Qt5Agg\n"
     ]
    }
   ],
   "source": [
    "import numpy as np\n",
    "import matplotlib.pyplot as plt\n",
    "import matplotlib\n",
    "import scipy.integrate as integ\n",
    "%matplotlib\n",
    "%config InlineBackend.figure_formats=set(['retina'])"
   ]
  },
  {
   "cell_type": "code",
   "execution_count": 154,
   "metadata": {},
   "outputs": [
    {
     "data": {
      "text/plain": [
       "(5, 40001)"
      ]
     },
     "execution_count": 154,
     "metadata": {},
     "output_type": "execute_result"
    }
   ],
   "source": [
    "a = np.loadtxt('output.txt')\n",
    "a.shape"
   ]
  },
  {
   "cell_type": "code",
   "execution_count": 156,
   "metadata": {
    "scrolled": false
   },
   "outputs": [
    {
     "name": "stderr",
     "output_type": "stream",
     "text": [
      "/home/filippo/anaconda3/lib/python3.7/site-packages/ipykernel/eventloops.py:106: UserWarning: Creating legend with loc=\"best\" can be slow with large amounts of data.\n",
      "  app.exec_()\n",
      "/home/filippo/anaconda3/lib/python3.7/site-packages/ipykernel/eventloops.py:106: UserWarning: Creating legend with loc=\"best\" can be slow with large amounts of data.\n",
      "  app.exec_()\n",
      "/home/filippo/anaconda3/lib/python3.7/site-packages/ipykernel/eventloops.py:106: UserWarning: Creating legend with loc=\"best\" can be slow with large amounts of data.\n",
      "  app.exec_()\n"
     ]
    }
   ],
   "source": [
    "plt.figure()\n",
    "plt.plot(np.arange(a.shape[1])*1e-3, a[4], 'k', label=r'$\\rho/\\rho_B$')\n",
    "L=[0,1,2,0,3,1]\n",
    "legenda = ['$n=0, \\, l=0$', '$n=0, \\, l=1$', '$n=0, \\, l=2$', '$n=1, \\, l=0$', '$n=0, \\, l=3$', '$n=1, \\, l=1$']\n",
    "for i in range(a.shape[0]-1):\n",
    "    plt.plot(np.linspace(0.001,40,40001), a[i]**2*2*(2*L[i]+1)/4/np.pi/np.linspace(0.001,40,40001)/np.linspace(0.001,40,40001), label=legenda[i])\n",
    "#plt.plot(np.linspace(0.001,20.001,20001), a[6]/4/np.pi/np.linspace(0.001,20.001,20001)**2)\n",
    "#plt.plot(np.arange(a.shape[1])*1e-3, a[6]/3.933e-3, 'k')\n",
    "plt.grid(True)\n",
    "plt.legend()\n",
    "plt.show()"
   ]
  },
  {
   "cell_type": "code",
   "execution_count": null,
   "metadata": {},
   "outputs": [],
   "source": [
    "np.linspace(0.001,15.002,15001).shape"
   ]
  },
  {
   "cell_type": "code",
   "execution_count": 30,
   "metadata": {},
   "outputs": [],
   "source": [
    "dens = np.empty((4, 40001))"
   ]
  },
  {
   "cell_type": "code",
   "execution_count": 44,
   "metadata": {},
   "outputs": [],
   "source": [
    "dens[3] = a[6]"
   ]
  },
  {
   "cell_type": "code",
   "execution_count": 105,
   "metadata": {},
   "outputs": [
    {
     "name": "stderr",
     "output_type": "stream",
     "text": [
      "/home/filippo/anaconda3/lib/python3.7/site-packages/ipykernel/eventloops.py:106: UserWarning: Creating legend with loc=\"best\" can be slow with large amounts of data.\n",
      "  app.exec_()\n",
      "/home/filippo/anaconda3/lib/python3.7/site-packages/ipykernel/eventloops.py:106: UserWarning: Creating legend with loc=\"best\" can be slow with large amounts of data.\n",
      "  app.exec_()\n"
     ]
    }
   ],
   "source": [
    "plt.figure()\n",
    "plt.plot(np.arange(dens.shape[1])*1e-3, dens[0]/3.933e-3, label=r'$N_e = 2$')\n",
    "plt.plot(np.arange(dens.shape[1])*1e-3, dens[1]/3.933e-3, label=r'$N_e = 8$')\n",
    "plt.plot(np.arange(dens.shape[1])*1e-3, a[3]/3.933e-3, label=r'$N_e = 10$')\n",
    "plt.plot(np.arange(dens.shape[1])*1e-3, dens[2]/3.933e-3, label=r'$N_e = 20$')\n",
    "plt.plot(np.arange(dens.shape[1])*1e-3, dens[3]/3.933e-3, label=r'$N_e = 40$')\n",
    "plt.grid(True)\n",
    "plt.legend()\n",
    "plt.show()"
   ]
  },
  {
   "cell_type": "code",
   "execution_count": 71,
   "metadata": {},
   "outputs": [
    {
     "data": {
      "text/plain": [
       "(110,)"
      ]
     },
     "execution_count": 71,
     "metadata": {},
     "output_type": "execute_result"
    }
   ],
   "source": [
    "b = np.loadtxt('out.txt')\n",
    "b.shape"
   ]
  },
  {
   "cell_type": "code",
   "execution_count": 72,
   "metadata": {},
   "outputs": [],
   "source": [
    "plt.figure()\n",
    "plt.semilogy(np.abs(b))\n",
    "plt.grid(True)\n",
    "plt.show()"
   ]
  },
  {
   "cell_type": "code",
   "execution_count": 113,
   "metadata": {},
   "outputs": [
    {
     "data": {
      "text/plain": [
       "(2001,)"
      ]
     },
     "execution_count": 113,
     "metadata": {},
     "output_type": "execute_result"
    }
   ],
   "source": [
    "c = np.loadtxt('pot.txt')\n",
    "c.shape"
   ]
  },
  {
   "cell_type": "code",
   "execution_count": 114,
   "metadata": {},
   "outputs": [],
   "source": [
    "plt.figure(9)\n",
    "plt.plot(np.arange(c.shape[0])*1e-2, c)\n",
    "#plt.plot(np.arange(8360)*1e-3,np.ones(8360)*-3.886,'r')\n",
    "#plt.plot(np.arange(7390)*1e-3,np.ones(7390)*-4.015,'r')\n",
    "#plt.plot(np.arange(6250)*1e-3,np.ones(6250)*-4.143,'r')\n",
    "#plt.plot(np.arange(4815)*1e-3,np.ones(4815)*-0.416,'r')\n",
    "#plt.plot(np.arange(c.shape[0])*1e-3, -0.606+0.5*40/13.4**3*(np.arange(c.shape[0])*1e-3)**2, '--')\n",
    "plt.grid(True)\n",
    "plt.show()"
   ]
  },
  {
   "cell_type": "code",
   "execution_count": 118,
   "metadata": {},
   "outputs": [],
   "source": [
    "x=np.empty(100)\n",
    "f=np.empty((3,100))\n",
    "liston = [8, 20, 40]"
   ]
  },
  {
   "cell_type": "code",
   "execution_count": 119,
   "metadata": {},
   "outputs": [
    {
     "data": {
      "text/plain": [
       "(3, 100)"
      ]
     },
     "execution_count": 119,
     "metadata": {},
     "output_type": "execute_result"
    }
   ],
   "source": [
    "for i in range(3):\n",
    "    string = '../Mauro/dsts/KSfcnFD{}K.txt'.format(liston[i])\n",
    "    x, f[i],_=np.loadtxt(string, unpack=True)\n",
    "f.shape"
   ]
  },
  {
   "cell_type": "code",
   "execution_count": 120,
   "metadata": {},
   "outputs": [],
   "source": [
    "plt.figure()\n",
    "for i in range(3):\n",
    "    plt.semilogy(x, f[i], label='$N_e = {}$'.format(liston[i]))\n",
    "plt.grid(True)\n",
    "plt.legend()\n",
    "plt.show()"
   ]
  },
  {
   "cell_type": "code",
   "execution_count": 125,
   "metadata": {},
   "outputs": [],
   "source": [
    "g=np.empty((3,20000))\n",
    "denso=np.empty((3,20000))\n",
    "x=np.linspace(0,40,20000)"
   ]
  },
  {
   "cell_type": "code",
   "execution_count": 152,
   "metadata": {},
   "outputs": [],
   "source": [
    "for i in range(3):\n",
    "    denso[i],merda1,merda2,merda3 = np.loadtxt('../Mauro/dsts/KSrhoFD{}K.txt'.format(liston[i]), unpack=True)\n",
    "    g[i]=merda1+merda2+merda3\n",
    "g.shape\n",
    "#denso=denso/3.933e-3#Na\n",
    "denso=denso/2.079e-3#K"
   ]
  },
  {
   "cell_type": "code",
   "execution_count": 153,
   "metadata": {},
   "outputs": [],
   "source": [
    "plt.figure()\n",
    "for i in range(3):\n",
    "    plt.plot(x, denso[i], label='$N_e = {}$'.format(liston[i]))\n",
    "plt.grid(True)\n",
    "plt.legend()\n",
    "plt.show()"
   ]
  },
  {
   "cell_type": "code",
   "execution_count": null,
   "metadata": {},
   "outputs": [],
   "source": []
  }
 ],
 "metadata": {
  "kernelspec": {
   "display_name": "Python 3",
   "language": "python",
   "name": "python3"
  },
  "language_info": {
   "codemirror_mode": {
    "name": "ipython",
    "version": 3
   },
   "file_extension": ".py",
   "mimetype": "text/x-python",
   "name": "python",
   "nbconvert_exporter": "python",
   "pygments_lexer": "ipython3",
   "version": "3.7.7"
  }
 },
 "nbformat": 4,
 "nbformat_minor": 4
}
