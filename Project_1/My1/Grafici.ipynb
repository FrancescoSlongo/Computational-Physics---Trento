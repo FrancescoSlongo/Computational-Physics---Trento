{
 "cells": [
  {
   "cell_type": "code",
   "execution_count": 1,
   "metadata": {},
   "outputs": [
    {
     "name": "stdout",
     "output_type": "stream",
     "text": [
      "Using matplotlib backend: Qt5Agg\n"
     ]
    }
   ],
   "source": [
    "import numpy as np\n",
    "import matplotlib.pyplot as plt\n",
    "import matplotlib\n",
    "%matplotlib\n",
    "%config InlineBackend.figure_formats=set(['retina'])"
   ]
  },
  {
   "cell_type": "code",
   "execution_count": 48,
   "metadata": {
    "scrolled": false
   },
   "outputs": [
    {
     "name": "stdout",
     "output_type": "stream",
     "text": [
      "[[ 5.          5.5                nan ...         nan         nan\n",
      "          nan]\n",
      " [ 5.          5.5                nan ...         nan         nan\n",
      "          nan]\n",
      " [ 5.          5.5                nan ...         nan         nan\n",
      "          nan]\n",
      " ...\n",
      " [ 5.          5.5        -0.74581824 ... -1.08705677  0.36179762\n",
      "  35.52141874]\n",
      " [ 5.          5.5        -0.74775457 ... -1.08843976  0.36177042\n",
      "  35.56168228]\n",
      " [ 5.          5.5        -0.74971004 ... -1.08983836  0.36174297\n",
      "  35.6023428 ]] [[ 4.          4.5        -0.63700518 ... -1.01536161  0.36176754\n",
      "  33.34737224]\n",
      " [ 4.01        4.51       -0.63697263 ... -1.01527425  0.36184427\n",
      "  33.34674411]\n",
      " [ 4.02        4.52       -0.63694339 ... -1.01518858  0.36191808\n",
      "  33.34607056]\n",
      " ...\n",
      " [ 6.37        6.87       -0.63524374 ... -1.01245143  0.36423029\n",
      "  33.27451499]\n",
      " [ 6.38        6.88       -0.63524471 ... -1.01244604  0.36423523\n",
      "  33.27443613]\n",
      " [ 6.39        6.89       -0.63524572 ... -1.0124408   0.36423999\n",
      "  33.27435539]] [[ 3.5         4.199      -0.64163467 ... -1.01912388  0.35666982\n",
      "  33.32938719]\n",
      " [ 3.5         4.2        -0.64163205 ... -1.0191266   0.35667134\n",
      "  33.3293117 ]\n",
      " [ 3.5         4.201      -0.64162942 ... -1.01912934  0.35667285\n",
      "  33.3292363 ]\n",
      " ...\n",
      " [ 3.5         4.997      -0.64230037 ... -1.01698086  0.35527493\n",
      "  33.2798644 ]\n",
      " [ 3.5         4.998      -0.64229748 ... -1.01698905  0.35528202\n",
      "  33.27991894]\n",
      " [ 3.5         4.999      -0.6422946  ... -1.01699719  0.35528905\n",
      "  33.27997274]]\n"
     ]
    }
   ],
   "source": [
    "a=np.loadtxt('test_s.txt', dtype=float)\n",
    "b=np.loadtxt('test_r.txt')\n",
    "c=np.loadtxt('test_d.txt')\n",
    "print(a,b,c)"
   ]
  },
  {
   "cell_type": "code",
   "execution_count": 135,
   "metadata": {},
   "outputs": [],
   "source": [
    "plt.figure()\n",
    "for i in range(a.shape[0]-1):\n",
    "    plt.plot(a[0,:],a[i+1,:],label=i)\n",
    "plt.grid()\n",
    "plt.show()"
   ]
  },
  {
   "cell_type": "code",
   "execution_count": 217,
   "metadata": {},
   "outputs": [
    {
     "name": "stderr",
     "output_type": "stream",
     "text": [
      "/home/filippo/anaconda3/lib/python3.7/site-packages/ipykernel_launcher.py:2: RuntimeWarning: invalid value encountered in greater\n",
      "  \n"
     ]
    },
    {
     "data": {
      "text/plain": [
       "array([ 1., nan,  2., nan, 13.])"
      ]
     },
     "execution_count": 217,
     "metadata": {},
     "output_type": "execute_result"
    }
   ],
   "source": [
    "aa=np.array([1, 'nan', 2, np.nan, 3], dtype=float)\n",
    "aa[aa is not 'nan' and aa>2]+=10\n",
    "aa"
   ]
  },
  {
   "cell_type": "code",
   "execution_count": 49,
   "metadata": {},
   "outputs": [],
   "source": [
    "a[np.greater(a,1.5,where=~np.isnan(a))]-=np.pi\n",
    "#a[a>1.5]-=np.pi\n",
    "plt.figure()\n",
    "for i in range(a.shape[1]-3):\n",
    "    plt.plot(np.arange(a.shape[0])*1e-3, a[:,i+2],label=(\"l={}\".format(i)))\n",
    "#plt.yscale('symlog', linthresy=0.0001)\n",
    "plt.grid(True)\n",
    "plt.legend()\n",
    "plt.show()"
   ]
  },
  {
   "cell_type": "code",
   "execution_count": 50,
   "metadata": {},
   "outputs": [
    {
     "data": {
      "text/plain": [
       "310"
      ]
     },
     "execution_count": 50,
     "metadata": {},
     "output_type": "execute_result"
    }
   ],
   "source": [
    "#differences in log\n",
    "for i in range(a.shape[0]):\n",
    "    if not np.isnan(a[i,2]):\n",
    "        t=i\n",
    "        break\n",
    "a[a==0]=np.nan\n",
    "plt.figure()\n",
    "for i in range(a.shape[1]-3):\n",
    "    eghe=np.abs(a[t,i+2]-a[:,i+2])\n",
    "    eghe[eghe==0]=np.nan\n",
    "    plt.semilogy(np.arange(a.shape[0])*1e-3-0.31,eghe,label=(\"l={}\".format(i)))\n",
    "#plt.yscale('symlog', linthresy=1e-5)\n",
    "plt.grid(True)\n",
    "plt.legend()\n",
    "plt.show()\n",
    "t"
   ]
  },
  {
   "cell_type": "code",
   "execution_count": 56,
   "metadata": {},
   "outputs": [],
   "source": [
    "plt.figure()\n",
    "for i in range(b.shape[1]-3):\n",
    "    plt.plot(4+np.arange(b.shape[0])*1e-2,b[:,i+2],label=(\"l={}\".format(i)))\n",
    "plt.grid()\n",
    "plt.legend()\n",
    "plt.show()"
   ]
  },
  {
   "cell_type": "code",
   "execution_count": 70,
   "metadata": {},
   "outputs": [],
   "source": [
    "plt.figure()\n",
    "for i in range(b.shape[1]-3):\n",
    "    plt.semilogy(4+np.arange(b.shape[0])*1e-2-6.5,np.abs(b[0,i+2]- b[:,i+2]),label=(\"l={}\".format(i)))\n",
    "plt.grid()\n",
    "plt.legend()\n",
    "plt.show()"
   ]
  },
  {
   "cell_type": "code",
   "execution_count": 59,
   "metadata": {},
   "outputs": [],
   "source": [
    "plt.figure()\n",
    "for i in range(c.shape[1]-3):\n",
    "    plt.plot(c[:,1]-c[:,0], c[:,i+2],label=(\"l={}\".format(i)))\n",
    "plt.grid()\n",
    "plt.legend()\n",
    "plt.show()"
   ]
  },
  {
   "cell_type": "code",
   "execution_count": 60,
   "metadata": {},
   "outputs": [
    {
     "data": {
      "text/plain": [
       "(1000, 10)"
      ]
     },
     "execution_count": 60,
     "metadata": {},
     "output_type": "execute_result"
    }
   ],
   "source": [
    "a.shape"
   ]
  },
  {
   "cell_type": "code",
   "execution_count": 63,
   "metadata": {},
   "outputs": [
    {
     "data": {
      "text/plain": [
       "array([[0.35      , 0.3501    , 0.3502    , ..., 6.9997    , 6.9998    ,\n",
       "        6.9999    ],\n",
       "       [0.        , 0.        , 0.        , ..., 0.17818857, 0.17822525,\n",
       "        0.17826192]])"
      ]
     },
     "execution_count": 63,
     "metadata": {},
     "output_type": "execute_result"
    }
   ],
   "source": [
    "wf=np.loadtxt('output.txt')\n",
    "wf"
   ]
  },
  {
   "cell_type": "code",
   "execution_count": 64,
   "metadata": {},
   "outputs": [],
   "source": [
    "plt.figure()\n",
    "plt.plot(wf[0], wf[1])\n",
    "plt.grid()\n",
    "plt.show()"
   ]
  },
  {
   "cell_type": "code",
   "execution_count": 37,
   "metadata": {},
   "outputs": [
    {
     "data": {
      "text/plain": [
       "array([[ 0.00000000e+00,             nan,             nan, ...,\n",
       "                    nan,             nan,             nan],\n",
       "       [ 1.00000000e-03,  2.49578317e-02,  1.10048663e-02, ...,\n",
       "        -0.00000000e+00, -0.00000000e+00,  4.35755465e-01],\n",
       "       [ 2.00000000e-03,  5.53391871e-04,  2.84014392e-02, ...,\n",
       "         0.00000000e+00,  0.00000000e+00,  5.35725607e-01],\n",
       "       ...,\n",
       "       [ 5.91000000e-01,  1.05259911e+00, -7.43007126e-01, ...,\n",
       "         2.12465654e-02,  1.47130246e-02,  3.43592332e+01],\n",
       "       [ 5.92000000e-01,  1.04852014e+00, -7.46939573e-01, ...,\n",
       "         2.13219951e-02,  1.47617121e-02,  3.43485938e+01],\n",
       "       [ 5.93000000e-01,  1.04444552e+00, -7.50868009e-01, ...,\n",
       "         2.13976802e-02,  1.48104605e-02,  3.43381606e+01]])"
      ]
     },
     "execution_count": 37,
     "metadata": {},
     "output_type": "execute_result"
    }
   ],
   "source": [
    "e=np.loadtxt('test_e.txt')\n",
    "e"
   ]
  },
  {
   "cell_type": "code",
   "execution_count": 38,
   "metadata": {},
   "outputs": [],
   "source": [
    "plt.figure()\n",
    "for i in range(e.shape[1]-2):\n",
    "    plt.plot(e[:,0], (2*(i)+1)*np.sin(e[:,i+1])**2, label=('l = {}'.format(i)))\n",
    "plt.plot(e[:,0], e[:,16], label=('$\\sigma_{tot}$'))\n",
    "plt.grid()\n",
    "plt.legend()\n",
    "plt.show()"
   ]
  },
  {
   "cell_type": "code",
   "execution_count": 32,
   "metadata": {},
   "outputs": [
    {
     "data": {
      "text/plain": [
       "nan"
      ]
     },
     "execution_count": 32,
     "metadata": {},
     "output_type": "execute_result"
    }
   ],
   "source": [
    "a[0,2]"
   ]
  },
  {
   "cell_type": "code",
   "execution_count": 13,
   "metadata": {},
   "outputs": [
    {
     "data": {
      "text/plain": [
       "array([[ 0.00000000e+00,             nan,             nan, ...,\n",
       "                    nan,             nan,             nan],\n",
       "       [ 1.00000000e-03,  3.33333300e-04,  3.33333300e-04, ...,\n",
       "        -1.50000015e+13, -1.50000015e+13,  0.00000000e+00],\n",
       "       [ 2.00000000e-03,  6.66666400e-04,  6.66666400e-04, ...,\n",
       "        -9.37500375e+11, -9.37500375e+11, -1.22070312e-04],\n",
       "       ...,\n",
       "       [ 6.99700000e+00, -9.46545678e-02, -9.46545678e-02, ...,\n",
       "         1.52807358e-01,  1.52807358e-01,  0.00000000e+00],\n",
       "       [ 6.99800000e+00, -9.45339121e-02, -9.45339121e-02, ...,\n",
       "         1.52781237e-01,  1.52781237e-01, -2.77600000e-17],\n",
       "       [ 6.99900000e+00, -9.44132002e-02, -9.44132002e-02, ...,\n",
       "         1.52755008e-01,  1.52755008e-01,  2.77600000e-17]])"
      ]
     },
     "execution_count": 13,
     "metadata": {},
     "output_type": "execute_result"
    }
   ],
   "source": [
    "bessel=np.loadtxt('test_b.txt')\n",
    "bessel"
   ]
  },
  {
   "cell_type": "code",
   "execution_count": 42,
   "metadata": {},
   "outputs": [
    {
     "name": "stderr",
     "output_type": "stream",
     "text": [
      "The PostScript backend does not support transparency; partially transparent artists will be rendered opaque.\n",
      "The PostScript backend does not support transparency; partially transparent artists will be rendered opaque.\n"
     ]
    }
   ],
   "source": [
    "berr=np.array([bessel[:,i] for i in range(19) if i%3==0])\n",
    "berr[berr==0]=np.nan\n",
    "plt.figure()\n",
    "for i in range(berr.shape[0]-1):\n",
    "    kekko=np.isfinite(berr[i+1,:])\n",
    "    plt.loglog(berr[0,kekko], np.abs(berr[i+1,kekko]),  label='{}'.format(i))\n",
    "#plt.yscale('symlog', lintreshold=1e-12)\n",
    "plt.legend()\n",
    "plt.grid()\n",
    "plt.show()"
   ]
  },
  {
   "cell_type": "code",
   "execution_count": 44,
   "metadata": {},
   "outputs": [
    {
     "name": "stderr",
     "output_type": "stream",
     "text": [
      "The PostScript backend does not support transparency; partially transparent artists will be rendered opaque.\n",
      "The PostScript backend does not support transparency; partially transparent artists will be rendered opaque.\n",
      "The PostScript backend does not support transparency; partially transparent artists will be rendered opaque.\n",
      "The PostScript backend does not support transparency; partially transparent artists will be rendered opaque.\n"
     ]
    }
   ],
   "source": [
    "berr=np.array([bessel[:,i] for i in range(19) if (i-1)%3==0])\n",
    "plt.figure()\n",
    "for i in range(berr.shape[0]):\n",
    "    plt.plot(bessel[:,0], berr[i,:], label='{}'.format(i))\n",
    "plt.legend()\n",
    "plt.grid()\n",
    "plt.show()"
   ]
  },
  {
   "cell_type": "code",
   "execution_count": 40,
   "metadata": {},
   "outputs": [
    {
     "data": {
      "text/plain": [
       "array([[1., 2., 3.],\n",
       "       [1., 2., 3.]])"
      ]
     },
     "execution_count": 40,
     "metadata": {},
     "output_type": "execute_result"
    }
   ],
   "source": [
    "a=np.array([[0,1,2,3], [0,1,2,3]], dtype=float)\n",
    "a[a==0]=np.nan\n",
    "kkk=np.isfinite(a[1])\n",
    "a[:,kkk]"
   ]
  },
  {
   "cell_type": "code",
   "execution_count": 60,
   "metadata": {},
   "outputs": [
    {
     "data": {
      "text/plain": [
       "array([[1.00000000e-01, 3.91168192e-07, 2.73927102e-06, 9.78796533e-06,\n",
       "        2.46797826e-05, 5.05661206e-05],\n",
       "       [7.00000000e-02, 9.38529317e-08, 6.57098655e-07, 2.34734908e-06,\n",
       "        5.91696899e-06, 1.21185374e-05],\n",
       "       [4.65500000e-02, 1.83471786e-08, 1.28441367e-07, 4.58768179e-07,\n",
       "        1.15623796e-06, 2.36784976e-06],\n",
       "       [3.20000000e-02, 4.09655698e-09, 2.86771442e-08, 1.02423887e-07,\n",
       "        2.58123166e-07, 5.28571108e-07],\n",
       "       [2.16700000e-02, 8.61486105e-10, 6.03017680e-09, 2.15367972e-08,\n",
       "        5.42742948e-08, 1.11136285e-07],\n",
       "       [1.47800000e-02, 1.86427984e-10, 1.30483846e-09, 4.66037120e-09,\n",
       "        1.17443046e-08, 2.40480498e-08],\n",
       "       [1.00000000e-02, 3.91101596e-11, 2.73506107e-10, 9.76693837e-10,\n",
       "        2.46044962e-09, 5.03920372e-09],\n",
       "       [6.90000000e-03, 8.79585293e-12, 6.18016749e-11, 2.21409113e-10,\n",
       "        5.57869306e-10, 1.14237508e-09],\n",
       "       [4.50000000e-03, 1.84413596e-12, 1.12303500e-11, 3.98805433e-11,\n",
       "        1.01122222e-10, 2.06434869e-10],\n",
       "       [3.20000000e-03, 7.99305067e-13, 3.25606209e-12, 9.41646761e-12,\n",
       "        2.56825672e-11, 5.32711653e-11],\n",
       "       [2.20000000e-03, 4.94992936e-13, 6.05071548e-13, 3.73701070e-12,\n",
       "        5.19273513e-12, 1.14184218e-11],\n",
       "       [1.50000000e-03, 1.35058631e-12, 8.63087379e-13, 5.78204151e-13,\n",
       "        1.02717834e-12, 1.88737914e-12],\n",
       "       [1.00000000e-03, 5.87696558e-13, 6.22235596e-12, 5.72475400e-12,\n",
       "        9.49462731e-13, 1.10311760e-12],\n",
       "       [6.94000000e-04, 5.07704989e-13, 9.82547377e-13, 1.96553884e-12,\n",
       "        3.69615449e-12, 6.66933175e-12],\n",
       "       [4.70000000e-04, 6.97253366e-12, 1.24180666e-11, 7.00328684e-12,\n",
       "        9.12825371e-12, 2.07567297e-12],\n",
       "       [3.23000000e-04, 1.89593896e-11, 8.01603228e-12, 1.40993883e-11,\n",
       "        7.65876251e-12, 2.00204298e-11],\n",
       "       [2.20000000e-04, 3.86694010e-11, 2.17261764e-11, 1.40438772e-11,\n",
       "        2.43360887e-13, 4.88409313e-12],\n",
       "       [1.50000000e-04, 1.80833681e-11, 3.58308938e-11, 8.11573031e-12,\n",
       "        1.32920341e-11, 3.72191167e-11],\n",
       "       [1.00000000e-04, 3.65749653e-11, 2.33835173e-11, 1.23874244e-11,\n",
       "        1.60805147e-10, 4.69349004e-11],\n",
       "       [7.00000000e-05, 2.65566458e-11, 1.15830012e-10, 4.45199433e-11,\n",
       "        1.66152869e-10, 1.42927448e-10]])"
      ]
     },
     "execution_count": 60,
     "metadata": {},
     "output_type": "execute_result"
    }
   ],
   "source": [
    "name='/home/filippo/Desktop/Computazionale/Project_1/Mauro/HO1DE_1e-13_h_rmax7_eo.txt'\n",
    "errori_maurat=np.loadtxt(name)\n",
    "errori_maurat = np.abs(errori_maurat-np.array([0, 0.5, 1.5, 2.5, 3.5, 4.5]))\n",
    "errori_maurat"
   ]
  },
  {
   "cell_type": "code",
   "execution_count": 61,
   "metadata": {},
   "outputs": [
    {
     "name": "stdout",
     "output_type": "stream",
     "text": [
      "[[ 3.89113698  3.98258413  4.0126953   4.00105688  3.99969794]\n",
      " [-5.9026411  -3.65641709 -2.28353789 -1.39753306 -0.68519897]]\n"
     ]
    }
   ],
   "source": [
    "print(np.polyfit(np.log(errori_maurat[:10,0]), np.log(errori_maurat[:10,1:]),1))\n",
    "colors=['tab:blue', 'tab:orange', 'tab:green', 'tab:red', 'tab:purple', 'tab:brown', 'tab:pink', 'tab:gray', 'tab:olive', 'tab:cyan']\n",
    "plt.figure()\n",
    "for i in range(errori_maurat.shape[1]-1):\n",
    "    m,q = np.polyfit(np.log(errori_maurat[:10,0]), np.log(errori_maurat[:10,i+1]),1)\n",
    "    plt.loglog(errori_maurat[:,0], errori_maurat[:,0]**m*np.exp(q),'--', color=colors[i], linewidth=2, alpha=.5)\n",
    "    plt.loglog(errori_maurat[:,0], errori_maurat[:,i+1], color=colors[i], label='E = {}'.format(0.5+i))\n",
    "plt.title(name)\n",
    "plt.grid()\n",
    "plt.legend()\n",
    "plt.show()"
   ]
  },
  {
   "cell_type": "code",
   "execution_count": 321,
   "metadata": {},
   "outputs": [],
   "source": [
    "names=['/home/filippo/Desktop/Computazionale/Project_1/Mauro/HO1DE_1e-13_h_rmax6_eo.txt',\n",
    "      '/home/filippo/Desktop/Computazionale/Project_1/Mauro/HO1DE_1e-13_h_rmax7_eo.txt',\n",
    "      '/home/filippo/Desktop/Computazionale/Project_1/Mauro/HO1DE_1e-13_h_rmax8.5_eo.txt',\n",
    "      '/home/filippo/Desktop/Computazionale/Project_1/Mauro/HO1DE_1e-13_h_rmax10_eo.txt']\n",
    "nu=np.array([np.abs(np.loadtxt(names[i], usecols=(0,5))-np.array([0,0.5+4])) for i in range(4)])\n",
    "#nu"
   ]
  },
  {
   "cell_type": "code",
   "execution_count": 322,
   "metadata": {
    "scrolled": true
   },
   "outputs": [],
   "source": [
    "#print(np.polyfit(np.log(errori_maurat[:10,0]), np.log(errori_maurat[:10,1:]),1))\n",
    "colors=['tab:blue', 'tab:orange', 'tab:green', 'tab:red', 'tab:purple', 'tab:brown', 'tab:pink', 'tab:gray', 'tab:olive', 'tab:cyan']\n",
    "plt.figure()\n",
    "for i in range(nu.shape[0]):\n",
    "    #m,q = np.polyfit(np.log(errori_maurat[:10,0]), np.log(errori_maurat[:10,i+1]),1)\n",
    "    #plt.loglog(nu[i,:,0], errori_maurat[:,0]**m*np.exp(q),'--', color=colors[i], linewidth=2, alpha=.5)\n",
    "    plt.loglog(nu[i,:,0], nu[i,:,1], color=colors[i], label='$r_{max}$ =')\n",
    "\n",
    "plt.grid()\n",
    "plt.legend()\n",
    "plt.show()"
   ]
  },
  {
   "cell_type": "code",
   "execution_count": 274,
   "metadata": {},
   "outputs": [
    {
     "data": {
      "text/plain": [
       "(3, 20, 2)"
      ]
     },
     "execution_count": 274,
     "metadata": {},
     "output_type": "execute_result"
    }
   ],
   "source": [
    "names=['/home/filippo/Desktop/Computazionale/Project_1/Mauro/HO1DE_1e-13_h_rmax7_eo.txt',\n",
    "      '/home/filippo/Desktop/Computazionale/Project_1/Mauro/HO1DE_1e-13_h_rmax7_eo.txt',\n",
    "      '/home/filippo/Desktop/Computazionale/Project_1/Mauro/HO1DE_1e-13_h_rmax8.5_eo.txt',\n",
    "      '/home/filippo/Desktop/Computazionale/Project_1/Mauro/HO1DE_1e-13_h_rmax10_eo.txt']\n",
    "tu=np.array([np.abs(np.loadtxt(names[0], usecols=(0,1))-np.array([0,np.loadtxt(names[i+1], usecols=(1))])) for i in range(3)])\n",
    "tu.shape"
   ]
  },
  {
   "cell_type": "code",
   "execution_count": 275,
   "metadata": {},
   "outputs": [
    {
     "ename": "ValueError",
     "evalue": "setting an array element with a sequence.",
     "output_type": "error",
     "traceback": [
      "\u001b[0;31m---------------------------------------------------------------------------\u001b[0m",
      "\u001b[0;31mTypeError\u001b[0m                                 Traceback (most recent call last)",
      "\u001b[0;31mTypeError\u001b[0m: only size-1 arrays can be converted to Python scalars",
      "\nThe above exception was the direct cause of the following exception:\n",
      "\u001b[0;31mValueError\u001b[0m                                Traceback (most recent call last)",
      "\u001b[0;32m<ipython-input-275-3d4f4d46cf42>\u001b[0m in \u001b[0;36m<module>\u001b[0;34m\u001b[0m\n\u001b[1;32m      5\u001b[0m     \u001b[0;31m#m,q = np.polyfit(np.log(errori_maurat[:10,0]), np.log(errori_maurat[:10,i+1]),1)\u001b[0m\u001b[0;34m\u001b[0m\u001b[0;34m\u001b[0m\u001b[0;34m\u001b[0m\u001b[0m\n\u001b[1;32m      6\u001b[0m     \u001b[0;31m#plt.loglog(nu[i,:,0], errori_maurat[:,0]**m*np.exp(q),'--', color=colors[i], linewidth=2, alpha=.5)\u001b[0m\u001b[0;34m\u001b[0m\u001b[0;34m\u001b[0m\u001b[0;34m\u001b[0m\u001b[0m\n\u001b[0;32m----> 7\u001b[0;31m     \u001b[0mplt\u001b[0m\u001b[0;34m.\u001b[0m\u001b[0mloglog\u001b[0m\u001b[0;34m(\u001b[0m\u001b[0mtu\u001b[0m\u001b[0;34m[\u001b[0m\u001b[0mi\u001b[0m\u001b[0;34m,\u001b[0m\u001b[0;34m:\u001b[0m\u001b[0;34m,\u001b[0m\u001b[0;36m0\u001b[0m\u001b[0;34m]\u001b[0m\u001b[0;34m,\u001b[0m \u001b[0mtu\u001b[0m\u001b[0;34m[\u001b[0m\u001b[0mi\u001b[0m\u001b[0;34m,\u001b[0m\u001b[0;34m:\u001b[0m\u001b[0;34m,\u001b[0m\u001b[0;36m1\u001b[0m\u001b[0;34m]\u001b[0m\u001b[0;34m,\u001b[0m \u001b[0mcolor\u001b[0m\u001b[0;34m=\u001b[0m\u001b[0mcolors\u001b[0m\u001b[0;34m[\u001b[0m\u001b[0mi\u001b[0m\u001b[0;34m]\u001b[0m\u001b[0;34m,\u001b[0m \u001b[0mlabel\u001b[0m\u001b[0;34m=\u001b[0m\u001b[0;34m'$r_{max}$ ='\u001b[0m\u001b[0;34m)\u001b[0m\u001b[0;34m\u001b[0m\u001b[0;34m\u001b[0m\u001b[0m\n\u001b[0m\u001b[1;32m      8\u001b[0m \u001b[0;34m\u001b[0m\u001b[0m\n\u001b[1;32m      9\u001b[0m \u001b[0mplt\u001b[0m\u001b[0;34m.\u001b[0m\u001b[0mgrid\u001b[0m\u001b[0;34m(\u001b[0m\u001b[0;34m)\u001b[0m\u001b[0;34m\u001b[0m\u001b[0;34m\u001b[0m\u001b[0m\n",
      "\u001b[0;32m~/anaconda3/lib/python3.7/site-packages/matplotlib/pyplot.py\u001b[0m in \u001b[0;36mloglog\u001b[0;34m(*args, **kwargs)\u001b[0m\n\u001b[1;32m   2702\u001b[0m \u001b[0;34m@\u001b[0m\u001b[0mdocstring\u001b[0m\u001b[0;34m.\u001b[0m\u001b[0mcopy\u001b[0m\u001b[0;34m(\u001b[0m\u001b[0mAxes\u001b[0m\u001b[0;34m.\u001b[0m\u001b[0mloglog\u001b[0m\u001b[0;34m)\u001b[0m\u001b[0;34m\u001b[0m\u001b[0;34m\u001b[0m\u001b[0m\n\u001b[1;32m   2703\u001b[0m \u001b[0;32mdef\u001b[0m \u001b[0mloglog\u001b[0m\u001b[0;34m(\u001b[0m\u001b[0;34m*\u001b[0m\u001b[0margs\u001b[0m\u001b[0;34m,\u001b[0m \u001b[0;34m**\u001b[0m\u001b[0mkwargs\u001b[0m\u001b[0;34m)\u001b[0m\u001b[0;34m:\u001b[0m\u001b[0;34m\u001b[0m\u001b[0;34m\u001b[0m\u001b[0m\n\u001b[0;32m-> 2704\u001b[0;31m     \u001b[0;32mreturn\u001b[0m \u001b[0mgca\u001b[0m\u001b[0;34m(\u001b[0m\u001b[0;34m)\u001b[0m\u001b[0;34m.\u001b[0m\u001b[0mloglog\u001b[0m\u001b[0;34m(\u001b[0m\u001b[0;34m*\u001b[0m\u001b[0margs\u001b[0m\u001b[0;34m,\u001b[0m \u001b[0;34m**\u001b[0m\u001b[0mkwargs\u001b[0m\u001b[0;34m)\u001b[0m\u001b[0;34m\u001b[0m\u001b[0;34m\u001b[0m\u001b[0m\n\u001b[0m\u001b[1;32m   2705\u001b[0m \u001b[0;34m\u001b[0m\u001b[0m\n\u001b[1;32m   2706\u001b[0m \u001b[0;34m\u001b[0m\u001b[0m\n",
      "\u001b[0;32m~/anaconda3/lib/python3.7/site-packages/matplotlib/axes/_axes.py\u001b[0m in \u001b[0;36mloglog\u001b[0;34m(self, *args, **kwargs)\u001b[0m\n\u001b[1;32m   1798\u001b[0m         \u001b[0mself\u001b[0m\u001b[0;34m.\u001b[0m\u001b[0mset_yscale\u001b[0m\u001b[0;34m(\u001b[0m\u001b[0;34m'log'\u001b[0m\u001b[0;34m,\u001b[0m \u001b[0;34m**\u001b[0m\u001b[0mdy\u001b[0m\u001b[0;34m)\u001b[0m\u001b[0;34m\u001b[0m\u001b[0;34m\u001b[0m\u001b[0m\n\u001b[1;32m   1799\u001b[0m \u001b[0;34m\u001b[0m\u001b[0m\n\u001b[0;32m-> 1800\u001b[0;31m         \u001b[0ml\u001b[0m \u001b[0;34m=\u001b[0m \u001b[0mself\u001b[0m\u001b[0;34m.\u001b[0m\u001b[0mplot\u001b[0m\u001b[0;34m(\u001b[0m\u001b[0;34m*\u001b[0m\u001b[0margs\u001b[0m\u001b[0;34m,\u001b[0m \u001b[0;34m**\u001b[0m\u001b[0mkwargs\u001b[0m\u001b[0;34m)\u001b[0m\u001b[0;34m\u001b[0m\u001b[0;34m\u001b[0m\u001b[0m\n\u001b[0m\u001b[1;32m   1801\u001b[0m         \u001b[0;32mreturn\u001b[0m \u001b[0ml\u001b[0m\u001b[0;34m\u001b[0m\u001b[0;34m\u001b[0m\u001b[0m\n\u001b[1;32m   1802\u001b[0m \u001b[0;34m\u001b[0m\u001b[0m\n",
      "\u001b[0;32m~/anaconda3/lib/python3.7/site-packages/matplotlib/axes/_axes.py\u001b[0m in \u001b[0;36mplot\u001b[0;34m(self, scalex, scaley, data, *args, **kwargs)\u001b[0m\n\u001b[1;32m   1665\u001b[0m         \u001b[0mlines\u001b[0m \u001b[0;34m=\u001b[0m \u001b[0;34m[\u001b[0m\u001b[0;34m*\u001b[0m\u001b[0mself\u001b[0m\u001b[0;34m.\u001b[0m\u001b[0m_get_lines\u001b[0m\u001b[0;34m(\u001b[0m\u001b[0;34m*\u001b[0m\u001b[0margs\u001b[0m\u001b[0;34m,\u001b[0m \u001b[0mdata\u001b[0m\u001b[0;34m=\u001b[0m\u001b[0mdata\u001b[0m\u001b[0;34m,\u001b[0m \u001b[0;34m**\u001b[0m\u001b[0mkwargs\u001b[0m\u001b[0;34m)\u001b[0m\u001b[0;34m]\u001b[0m\u001b[0;34m\u001b[0m\u001b[0;34m\u001b[0m\u001b[0m\n\u001b[1;32m   1666\u001b[0m         \u001b[0;32mfor\u001b[0m \u001b[0mline\u001b[0m \u001b[0;32min\u001b[0m \u001b[0mlines\u001b[0m\u001b[0;34m:\u001b[0m\u001b[0;34m\u001b[0m\u001b[0;34m\u001b[0m\u001b[0m\n\u001b[0;32m-> 1667\u001b[0;31m             \u001b[0mself\u001b[0m\u001b[0;34m.\u001b[0m\u001b[0madd_line\u001b[0m\u001b[0;34m(\u001b[0m\u001b[0mline\u001b[0m\u001b[0;34m)\u001b[0m\u001b[0;34m\u001b[0m\u001b[0;34m\u001b[0m\u001b[0m\n\u001b[0m\u001b[1;32m   1668\u001b[0m         \u001b[0mself\u001b[0m\u001b[0;34m.\u001b[0m\u001b[0mautoscale_view\u001b[0m\u001b[0;34m(\u001b[0m\u001b[0mscalex\u001b[0m\u001b[0;34m=\u001b[0m\u001b[0mscalex\u001b[0m\u001b[0;34m,\u001b[0m \u001b[0mscaley\u001b[0m\u001b[0;34m=\u001b[0m\u001b[0mscaley\u001b[0m\u001b[0;34m)\u001b[0m\u001b[0;34m\u001b[0m\u001b[0;34m\u001b[0m\u001b[0m\n\u001b[1;32m   1669\u001b[0m         \u001b[0;32mreturn\u001b[0m \u001b[0mlines\u001b[0m\u001b[0;34m\u001b[0m\u001b[0;34m\u001b[0m\u001b[0m\n",
      "\u001b[0;32m~/anaconda3/lib/python3.7/site-packages/matplotlib/axes/_base.py\u001b[0m in \u001b[0;36madd_line\u001b[0;34m(self, line)\u001b[0m\n\u001b[1;32m   1900\u001b[0m             \u001b[0mline\u001b[0m\u001b[0;34m.\u001b[0m\u001b[0mset_clip_path\u001b[0m\u001b[0;34m(\u001b[0m\u001b[0mself\u001b[0m\u001b[0;34m.\u001b[0m\u001b[0mpatch\u001b[0m\u001b[0;34m)\u001b[0m\u001b[0;34m\u001b[0m\u001b[0;34m\u001b[0m\u001b[0m\n\u001b[1;32m   1901\u001b[0m \u001b[0;34m\u001b[0m\u001b[0m\n\u001b[0;32m-> 1902\u001b[0;31m         \u001b[0mself\u001b[0m\u001b[0;34m.\u001b[0m\u001b[0m_update_line_limits\u001b[0m\u001b[0;34m(\u001b[0m\u001b[0mline\u001b[0m\u001b[0;34m)\u001b[0m\u001b[0;34m\u001b[0m\u001b[0;34m\u001b[0m\u001b[0m\n\u001b[0m\u001b[1;32m   1903\u001b[0m         \u001b[0;32mif\u001b[0m \u001b[0;32mnot\u001b[0m \u001b[0mline\u001b[0m\u001b[0;34m.\u001b[0m\u001b[0mget_label\u001b[0m\u001b[0;34m(\u001b[0m\u001b[0;34m)\u001b[0m\u001b[0;34m:\u001b[0m\u001b[0;34m\u001b[0m\u001b[0;34m\u001b[0m\u001b[0m\n\u001b[1;32m   1904\u001b[0m             \u001b[0mline\u001b[0m\u001b[0;34m.\u001b[0m\u001b[0mset_label\u001b[0m\u001b[0;34m(\u001b[0m\u001b[0;34m'_line%d'\u001b[0m \u001b[0;34m%\u001b[0m \u001b[0mlen\u001b[0m\u001b[0;34m(\u001b[0m\u001b[0mself\u001b[0m\u001b[0;34m.\u001b[0m\u001b[0mlines\u001b[0m\u001b[0;34m)\u001b[0m\u001b[0;34m)\u001b[0m\u001b[0;34m\u001b[0m\u001b[0;34m\u001b[0m\u001b[0m\n",
      "\u001b[0;32m~/anaconda3/lib/python3.7/site-packages/matplotlib/axes/_base.py\u001b[0m in \u001b[0;36m_update_line_limits\u001b[0;34m(self, line)\u001b[0m\n\u001b[1;32m   1922\u001b[0m         \u001b[0mFigures\u001b[0m \u001b[0mout\u001b[0m \u001b[0mthe\u001b[0m \u001b[0mdata\u001b[0m \u001b[0mlimit\u001b[0m \u001b[0mof\u001b[0m \u001b[0mthe\u001b[0m \u001b[0mgiven\u001b[0m \u001b[0mline\u001b[0m\u001b[0;34m,\u001b[0m \u001b[0mupdating\u001b[0m \u001b[0mself\u001b[0m\u001b[0;34m.\u001b[0m\u001b[0mdataLim\u001b[0m\u001b[0;34m.\u001b[0m\u001b[0;34m\u001b[0m\u001b[0;34m\u001b[0m\u001b[0m\n\u001b[1;32m   1923\u001b[0m         \"\"\"\n\u001b[0;32m-> 1924\u001b[0;31m         \u001b[0mpath\u001b[0m \u001b[0;34m=\u001b[0m \u001b[0mline\u001b[0m\u001b[0;34m.\u001b[0m\u001b[0mget_path\u001b[0m\u001b[0;34m(\u001b[0m\u001b[0;34m)\u001b[0m\u001b[0;34m\u001b[0m\u001b[0;34m\u001b[0m\u001b[0m\n\u001b[0m\u001b[1;32m   1925\u001b[0m         \u001b[0;32mif\u001b[0m \u001b[0mpath\u001b[0m\u001b[0;34m.\u001b[0m\u001b[0mvertices\u001b[0m\u001b[0;34m.\u001b[0m\u001b[0msize\u001b[0m \u001b[0;34m==\u001b[0m \u001b[0;36m0\u001b[0m\u001b[0;34m:\u001b[0m\u001b[0;34m\u001b[0m\u001b[0;34m\u001b[0m\u001b[0m\n\u001b[1;32m   1926\u001b[0m             \u001b[0;32mreturn\u001b[0m\u001b[0;34m\u001b[0m\u001b[0;34m\u001b[0m\u001b[0m\n",
      "\u001b[0;32m~/anaconda3/lib/python3.7/site-packages/matplotlib/lines.py\u001b[0m in \u001b[0;36mget_path\u001b[0;34m(self)\u001b[0m\n\u001b[1;32m   1025\u001b[0m         \"\"\"\n\u001b[1;32m   1026\u001b[0m         \u001b[0;32mif\u001b[0m \u001b[0mself\u001b[0m\u001b[0;34m.\u001b[0m\u001b[0m_invalidy\u001b[0m \u001b[0;32mor\u001b[0m \u001b[0mself\u001b[0m\u001b[0;34m.\u001b[0m\u001b[0m_invalidx\u001b[0m\u001b[0;34m:\u001b[0m\u001b[0;34m\u001b[0m\u001b[0;34m\u001b[0m\u001b[0m\n\u001b[0;32m-> 1027\u001b[0;31m             \u001b[0mself\u001b[0m\u001b[0;34m.\u001b[0m\u001b[0mrecache\u001b[0m\u001b[0;34m(\u001b[0m\u001b[0;34m)\u001b[0m\u001b[0;34m\u001b[0m\u001b[0;34m\u001b[0m\u001b[0m\n\u001b[0m\u001b[1;32m   1028\u001b[0m         \u001b[0;32mreturn\u001b[0m \u001b[0mself\u001b[0m\u001b[0;34m.\u001b[0m\u001b[0m_path\u001b[0m\u001b[0;34m\u001b[0m\u001b[0;34m\u001b[0m\u001b[0m\n\u001b[1;32m   1029\u001b[0m \u001b[0;34m\u001b[0m\u001b[0m\n",
      "\u001b[0;32m~/anaconda3/lib/python3.7/site-packages/matplotlib/lines.py\u001b[0m in \u001b[0;36mrecache\u001b[0;34m(self, always)\u001b[0m\n\u001b[1;32m    673\u001b[0m         \u001b[0;32mif\u001b[0m \u001b[0malways\u001b[0m \u001b[0;32mor\u001b[0m \u001b[0mself\u001b[0m\u001b[0;34m.\u001b[0m\u001b[0m_invalidy\u001b[0m\u001b[0;34m:\u001b[0m\u001b[0;34m\u001b[0m\u001b[0;34m\u001b[0m\u001b[0m\n\u001b[1;32m    674\u001b[0m             \u001b[0myconv\u001b[0m \u001b[0;34m=\u001b[0m \u001b[0mself\u001b[0m\u001b[0;34m.\u001b[0m\u001b[0mconvert_yunits\u001b[0m\u001b[0;34m(\u001b[0m\u001b[0mself\u001b[0m\u001b[0;34m.\u001b[0m\u001b[0m_yorig\u001b[0m\u001b[0;34m)\u001b[0m\u001b[0;34m\u001b[0m\u001b[0;34m\u001b[0m\u001b[0m\n\u001b[0;32m--> 675\u001b[0;31m             \u001b[0my\u001b[0m \u001b[0;34m=\u001b[0m \u001b[0m_to_unmasked_float_array\u001b[0m\u001b[0;34m(\u001b[0m\u001b[0myconv\u001b[0m\u001b[0;34m)\u001b[0m\u001b[0;34m.\u001b[0m\u001b[0mravel\u001b[0m\u001b[0;34m(\u001b[0m\u001b[0;34m)\u001b[0m\u001b[0;34m\u001b[0m\u001b[0;34m\u001b[0m\u001b[0m\n\u001b[0m\u001b[1;32m    676\u001b[0m         \u001b[0;32melse\u001b[0m\u001b[0;34m:\u001b[0m\u001b[0;34m\u001b[0m\u001b[0;34m\u001b[0m\u001b[0m\n\u001b[1;32m    677\u001b[0m             \u001b[0my\u001b[0m \u001b[0;34m=\u001b[0m \u001b[0mself\u001b[0m\u001b[0;34m.\u001b[0m\u001b[0m_y\u001b[0m\u001b[0;34m\u001b[0m\u001b[0;34m\u001b[0m\u001b[0m\n",
      "\u001b[0;32m~/anaconda3/lib/python3.7/site-packages/matplotlib/cbook/__init__.py\u001b[0m in \u001b[0;36m_to_unmasked_float_array\u001b[0;34m(x)\u001b[0m\n\u001b[1;32m   1388\u001b[0m         \u001b[0;32mreturn\u001b[0m \u001b[0mnp\u001b[0m\u001b[0;34m.\u001b[0m\u001b[0mma\u001b[0m\u001b[0;34m.\u001b[0m\u001b[0masarray\u001b[0m\u001b[0;34m(\u001b[0m\u001b[0mx\u001b[0m\u001b[0;34m,\u001b[0m \u001b[0mfloat\u001b[0m\u001b[0;34m)\u001b[0m\u001b[0;34m.\u001b[0m\u001b[0mfilled\u001b[0m\u001b[0;34m(\u001b[0m\u001b[0mnp\u001b[0m\u001b[0;34m.\u001b[0m\u001b[0mnan\u001b[0m\u001b[0;34m)\u001b[0m\u001b[0;34m\u001b[0m\u001b[0;34m\u001b[0m\u001b[0m\n\u001b[1;32m   1389\u001b[0m     \u001b[0;32melse\u001b[0m\u001b[0;34m:\u001b[0m\u001b[0;34m\u001b[0m\u001b[0;34m\u001b[0m\u001b[0m\n\u001b[0;32m-> 1390\u001b[0;31m         \u001b[0;32mreturn\u001b[0m \u001b[0mnp\u001b[0m\u001b[0;34m.\u001b[0m\u001b[0masarray\u001b[0m\u001b[0;34m(\u001b[0m\u001b[0mx\u001b[0m\u001b[0;34m,\u001b[0m \u001b[0mfloat\u001b[0m\u001b[0;34m)\u001b[0m\u001b[0;34m\u001b[0m\u001b[0;34m\u001b[0m\u001b[0m\n\u001b[0m\u001b[1;32m   1391\u001b[0m \u001b[0;34m\u001b[0m\u001b[0m\n\u001b[1;32m   1392\u001b[0m \u001b[0;34m\u001b[0m\u001b[0m\n",
      "\u001b[0;32m~/anaconda3/lib/python3.7/site-packages/numpy/core/_asarray.py\u001b[0m in \u001b[0;36masarray\u001b[0;34m(a, dtype, order)\u001b[0m\n\u001b[1;32m     83\u001b[0m \u001b[0;34m\u001b[0m\u001b[0m\n\u001b[1;32m     84\u001b[0m     \"\"\"\n\u001b[0;32m---> 85\u001b[0;31m     \u001b[0;32mreturn\u001b[0m \u001b[0marray\u001b[0m\u001b[0;34m(\u001b[0m\u001b[0ma\u001b[0m\u001b[0;34m,\u001b[0m \u001b[0mdtype\u001b[0m\u001b[0;34m,\u001b[0m \u001b[0mcopy\u001b[0m\u001b[0;34m=\u001b[0m\u001b[0;32mFalse\u001b[0m\u001b[0;34m,\u001b[0m \u001b[0morder\u001b[0m\u001b[0;34m=\u001b[0m\u001b[0morder\u001b[0m\u001b[0;34m)\u001b[0m\u001b[0;34m\u001b[0m\u001b[0;34m\u001b[0m\u001b[0m\n\u001b[0m\u001b[1;32m     86\u001b[0m \u001b[0;34m\u001b[0m\u001b[0m\n\u001b[1;32m     87\u001b[0m \u001b[0;34m\u001b[0m\u001b[0m\n",
      "\u001b[0;31mValueError\u001b[0m: setting an array element with a sequence."
     ]
    }
   ],
   "source": [
    "#print(np.polyfit(np.log(errori_maurat[:10,0]), np.log(errori_maurat[:10,1:]),1))\n",
    "colors=['tab:blue', 'tab:orange', 'tab:green', 'tab:red', 'tab:purple', 'tab:brown', 'tab:pink', 'tab:gray', 'tab:olive', 'tab:cyan']\n",
    "plt.figure()\n",
    "for i in range(tu.shape[0]):\n",
    "    #m,q = np.polyfit(np.log(errori_maurat[:10,0]), np.log(errori_maurat[:10,i+1]),1)\n",
    "    #plt.loglog(nu[i,:,0], errori_maurat[:,0]**m*np.exp(q),'--', color=colors[i], linewidth=2, alpha=.5)\n",
    "    plt.loglog(tu[i,:,0], tu[i,:,1], color=colors[i], label='$r_{max}$ =')\n",
    "\n",
    "plt.grid()\n",
    "plt.legend()\n",
    "plt.show()"
   ]
  },
  {
   "cell_type": "code",
   "execution_count": 273,
   "metadata": {},
   "outputs": [
    {
     "data": {
      "text/plain": [
       "array([0,\n",
       "       array([1.49999961, 1.49999991, 1.49999998, 1.5       , 1.5       ,\n",
       "       1.5       , 1.5       , 1.5       , 1.5       , 1.5       ,\n",
       "       1.5       , 1.5       , 1.5       , 1.5       , 1.5       ,\n",
       "       1.5       , 1.5       , 1.5       , 1.5       , 1.5       ])],\n",
       "      dtype=object)"
      ]
     },
     "execution_count": 273,
     "metadata": {},
     "output_type": "execute_result"
    }
   ],
   "source": [
    "np.array([0,np.loadtxt(names[i+1], usecols=(1))])"
   ]
  },
  {
   "cell_type": "code",
   "execution_count": 308,
   "metadata": {},
   "outputs": [
    {
     "data": {
      "text/plain": [
       "array([3.33066907e-16, 4.44089210e-16, 2.22044605e-16, 3.33066907e-16,\n",
       "       3.88578059e-16, 6.66133815e-16, 2.77555756e-16, 5.55111512e-17,\n",
       "       3.33066907e-16, 3.33066907e-16, 2.77555756e-16, 0.00000000e+00,\n",
       "       1.66533454e-16, 1.11022302e-16, 4.44089210e-16, 3.33066907e-16,\n",
       "       3.33066907e-16, 4.44089210e-16, 1.66533454e-16, 1.66533454e-16])"
      ]
     },
     "execution_count": 308,
     "metadata": {},
     "output_type": "execute_result"
    }
   ],
   "source": [
    "\n",
    "\n",
    "tu"
   ]
  },
  {
   "cell_type": "code",
   "execution_count": 315,
   "metadata": {},
   "outputs": [],
   "source": [
    "#print(np.polyfit(np.log(errori_maurat[:10,0]), np.log(errori_maurat[:10,1:]),1))\n",
    "colors=['tab:blue', 'tab:orange', 'tab:green', 'tab:red', 'tab:purple', 'tab:brown', 'tab:pink', 'tab:gray', 'tab:olive', 'tab:cyan']\n",
    "plt.figure()\n",
    "\n",
    "uuu=np.loadtxt('/home/filippo/Desktop/Computazionale/Project_1/Mauro/HO1DE_1e-11_h_rmax8.5_eo.txt')\n",
    "iii=np.loadtxt('/home/filippo/Desktop/Computazionale/Project_1/Mauro/HO1DE_1e-11_h_rmax10_eo.txt')\n",
    "tu = np.abs(uuu[:,1]-iii[:,1])\n",
    "\n",
    "plt.loglog(uuu[:,0], tu, color=colors[0], label=r'$E_{threshold} = 10^{-11}$')\n",
    "\n",
    "uuu=np.loadtxt('/home/filippo/Desktop/Computazionale/Project_1/Mauro/HO1DE_1e-13_h_rmax8.5_eo.txt')\n",
    "iii=np.loadtxt('/home/filippo/Desktop/Computazionale/Project_1/Mauro/HO1DE_1e-13_h_rmax10_eo.txt')\n",
    "tu = np.abs(uuu[:,1]-iii[:,1])\n",
    "\n",
    "plt.loglog(uuu[:,0], tu, color=colors[1], label=r'$E_{threshold} = 10^{-13}$')\n",
    "\n",
    "uuu=np.loadtxt('/home/filippo/Desktop/Computazionale/Project_1/Mauro/HO1DE_1e-15_h_rmax8.5_ground.txt')\n",
    "iii=np.loadtxt('/home/filippo/Desktop/Computazionale/Project_1/Mauro/HO1DE_1e-15_h_rmax10_ground.txt')\n",
    "tu = np.abs(uuu[:,1]-iii[:,1])\n",
    "\n",
    "plt.loglog(uuu[:,0], tu, color=colors[2], label=r'$E_{threshold} = 10^{-15}$')\n",
    "\n",
    "plt.grid()\n",
    "plt.legend()\n",
    "plt.show()"
   ]
  },
  {
   "cell_type": "code",
   "execution_count": 353,
   "metadata": {},
   "outputs": [],
   "source": [
    "plt.figure(7)\n",
    "plt.grid(True, which='major', axis='both')\n",
    "plt.show()"
   ]
  },
  {
   "cell_type": "code",
   "execution_count": null,
   "metadata": {},
   "outputs": [],
   "source": []
  }
 ],
 "metadata": {
  "kernelspec": {
   "display_name": "Python 3",
   "language": "python",
   "name": "python3"
  },
  "language_info": {
   "codemirror_mode": {
    "name": "ipython",
    "version": 3
   },
   "file_extension": ".py",
   "mimetype": "text/x-python",
   "name": "python",
   "nbconvert_exporter": "python",
   "pygments_lexer": "ipython3",
   "version": "3.7.6"
  }
 },
 "nbformat": 4,
 "nbformat_minor": 4
}
