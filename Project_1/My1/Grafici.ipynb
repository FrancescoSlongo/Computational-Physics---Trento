{
 "cells": [
  {
   "cell_type": "code",
   "execution_count": 1,
   "metadata": {},
   "outputs": [
    {
     "name": "stdout",
     "output_type": "stream",
     "text": [
      "Using matplotlib backend: Qt5Agg\n"
     ]
    }
   ],
   "source": [
    "import numpy as np\n",
    "import matplotlib.pyplot as plt\n",
    "import matplotlib\n",
    "%matplotlib\n",
    "%config InlineBackend.figure_formats=set(['retina'])"
   ]
  },
  {
   "cell_type": "code",
   "execution_count": 7,
   "metadata": {},
   "outputs": [
    {
     "name": "stdout",
     "output_type": "stream",
     "text": [
      "[[ 5.          5.5                nan ...         nan         nan\n",
      "          nan]\n",
      " [ 5.          5.5                nan ...         nan         nan\n",
      "          nan]\n",
      " [ 5.          5.5                nan ...         nan         nan\n",
      "          nan]\n",
      " ...\n",
      " [ 5.0001      5.5001     -0.75128798 ... -1.09096829  0.36172105\n",
      "  35.63515636]\n",
      " [ 5.0001      5.5001     -0.7514861  ... -1.09111026  0.36171827\n",
      "  35.63927565]\n",
      " [ 5.0001      5.5001     -0.75168441 ... -1.09125238  0.36171549\n",
      "  35.64339887]] [[ 4.          4.5        -0.63700518 ... -1.01536161  0.36176754\n",
      "  33.34737225]\n",
      " [ 4.001       4.501      -0.63700177 ... -1.0153528   0.36177535\n",
      "  33.34731151]\n",
      " [ 4.002       4.502      -0.6369984  ... -1.01534401  0.36178312\n",
      "  33.34725031]\n",
      " ...\n",
      " [ 6.397       6.897      -0.63524644 ... -1.01243722  0.36424321\n",
      "  33.27429783]\n",
      " [ 6.398       6.898      -0.63524655 ... -1.01243672  0.36424367\n",
      "  33.27428954]\n",
      " [ 6.399       6.899      -0.63524665 ... -1.01243622  0.36424412\n",
      "  33.27428124]] [[ 3.5         4.1999     -0.64163231 ... -1.01912633  0.35667118\n",
      "  33.32931925]\n",
      " [ 3.5         4.2        -0.64163205 ... -1.0191266   0.35667134\n",
      "  33.32931171]\n",
      " [ 3.5         4.2001     -0.64163179 ... -1.01912688  0.35667149\n",
      "  33.32930416]\n",
      " ...\n",
      " [ 3.5         4.9997     -0.64229259 ... -1.01700287  0.35529394\n",
      "  33.28000996]\n",
      " [ 3.5         4.9998     -0.6422923  ... -1.01700368  0.35529463\n",
      "  33.28001525]\n",
      " [ 3.5         4.9999     -0.64229201 ... -1.01700449  0.35529533\n",
      "  33.28002054]]\n"
     ]
    }
   ],
   "source": [
    "a=np.loadtxt('test_s.txt')\n",
    "b=np.loadtxt('test_r.txt')\n",
    "c=np.loadtxt('test_d.txt')\n",
    "print(a,b,c)"
   ]
  },
  {
   "cell_type": "code",
   "execution_count": 3,
   "metadata": {},
   "outputs": [],
   "source": [
    "plt.figure()\n",
    "for i in range(a.shape[0]-1):\n",
    "    plt.plot(a[0,:],a[i+1,:],label=i)\n",
    "plt.grid()\n",
    "plt.show()"
   ]
  },
  {
   "cell_type": "code",
   "execution_count": 35,
   "metadata": {},
   "outputs": [],
   "source": [
    "plt.figure()\n",
    "plt.plot(np.arange(a.size)*0.01,a)\n",
    "plt.grid()\n",
    "plt.show()"
   ]
  },
  {
   "cell_type": "code",
   "execution_count": 8,
   "metadata": {},
   "outputs": [],
   "source": [
    "plt.figure()\n",
    "for i in range(a.shape[1]-3):\n",
    "    plt.plot(np.arange(a.shape[0])*1e-3, a[:,i+2],label=(\"l={}\".format(i)))\n",
    "#plt.yscale('symlog', linthresy=0.0001)\n",
    "plt.grid(True)\n",
    "plt.legend()\n",
    "plt.show()"
   ]
  },
  {
   "cell_type": "code",
   "execution_count": 13,
   "metadata": {},
   "outputs": [
    {
     "data": {
      "text/plain": [
       "3098"
      ]
     },
     "execution_count": 13,
     "metadata": {},
     "output_type": "execute_result"
    }
   ],
   "source": [
    "#differences in log\n",
    "for i in range(a.shape[0]):\n",
    "    if not np.isnan(a[i,2]):\n",
    "        t=i\n",
    "        break\n",
    "plt.figure()\n",
    "for i in range(a.shape[1]-3):\n",
    "    plt.semilogy(np.arange(a.shape[0])*1e-3-0.31, a[t,i+2]-a[:,i+2],label=(\"l={}\".format(i)))\n",
    "#plt.yscale('symlog', linthresy=1e-5)\n",
    "plt.grid(True)\n",
    "plt.legend()\n",
    "plt.show()\n",
    "t"
   ]
  },
  {
   "cell_type": "code",
   "execution_count": 53,
   "metadata": {},
   "outputs": [],
   "source": [
    "plt.figure()\n",
    "for i in range(b.shape[1]-2):\n",
    "    plt.semilogy(4+np.arange(b.shape[0])*1e-3-6.5,b[-1,i+2]- b[:,i+2],label=(\"l={}\".format(i)))\n",
    "plt.grid()\n",
    "plt.legend()\n",
    "plt.show()"
   ]
  },
  {
   "cell_type": "code",
   "execution_count": 13,
   "metadata": {},
   "outputs": [],
   "source": [
    "plt.figure()\n",
    "for i in range(c.shape[1]-3):\n",
    "    plt.plot(c[:,1]-c[:,0], c[:,i+2],label=(\"l={}\".format(i)))\n",
    "plt.grid()\n",
    "plt.legend()\n",
    "plt.show()"
   ]
  },
  {
   "cell_type": "code",
   "execution_count": 60,
   "metadata": {},
   "outputs": [
    {
     "data": {
      "text/plain": [
       "(1000, 10)"
      ]
     },
     "execution_count": 60,
     "metadata": {},
     "output_type": "execute_result"
    }
   ],
   "source": [
    "a.shape"
   ]
  },
  {
   "cell_type": "code",
   "execution_count": 63,
   "metadata": {},
   "outputs": [
    {
     "data": {
      "text/plain": [
       "array([[0.35      , 0.3501    , 0.3502    , ..., 6.9997    , 6.9998    ,\n",
       "        6.9999    ],\n",
       "       [0.        , 0.        , 0.        , ..., 0.17818857, 0.17822525,\n",
       "        0.17826192]])"
      ]
     },
     "execution_count": 63,
     "metadata": {},
     "output_type": "execute_result"
    }
   ],
   "source": [
    "wf=np.loadtxt('output.txt')\n",
    "wf"
   ]
  },
  {
   "cell_type": "code",
   "execution_count": 64,
   "metadata": {},
   "outputs": [],
   "source": [
    "plt.figure()\n",
    "plt.plot(wf[0], wf[1])\n",
    "plt.grid()\n",
    "plt.show()"
   ]
  },
  {
   "cell_type": "code",
   "execution_count": 59,
   "metadata": {},
   "outputs": [
    {
     "data": {
      "text/plain": [
       "array([[ 0.00000000e+00,             nan,             nan, ...,\n",
       "                    nan,             nan,             nan],\n",
       "       [ 1.00000000e-04,  1.67204396e-02,  3.75189745e-04, ...,\n",
       "        -0.00000000e+00, -0.00000000e+00,  1.23696667e+00],\n",
       "       [ 2.00000000e-04,  2.21034342e-02,  1.05274302e-03, ...,\n",
       "         0.00000000e+00,  0.00000000e+00,  1.08645645e+00],\n",
       "       ...,\n",
       "       [ 5.93000000e-01,  1.04444552e+00, -7.50868009e-01, ...,\n",
       "         2.13976802e-02,  1.48104605e-02,  3.43381606e+01],\n",
       "       [ 5.93100000e-01,  1.04403829e+00, -7.51260633e-01, ...,\n",
       "         2.14052627e-02,  1.48153388e-02,  3.43371285e+01],\n",
       "       [ 5.93200000e-01,  1.04363111e+00, -7.51653216e-01, ...,\n",
       "         2.14128478e-02,  1.48202178e-02,  3.43360985e+01]])"
      ]
     },
     "execution_count": 59,
     "metadata": {},
     "output_type": "execute_result"
    }
   ],
   "source": [
    "e=np.loadtxt('test_e.txt')\n",
    "e"
   ]
  },
  {
   "cell_type": "code",
   "execution_count": 60,
   "metadata": {},
   "outputs": [],
   "source": [
    "plt.figure()\n",
    "for i in range(e.shape[1]-2):\n",
    "    plt.plot(e[:,0], (2*(i)+1)*np.sin(e[:,i+1])**2, label=('l = {}'.format(i)))\n",
    "plt.plot(e[:,0], e[:,16], label=('$\\sigma_{tot}$'))\n",
    "plt.grid()\n",
    "plt.legend()\n",
    "plt.show()"
   ]
  },
  {
   "cell_type": "code",
   "execution_count": 32,
   "metadata": {},
   "outputs": [
    {
     "data": {
      "text/plain": [
       "nan"
      ]
     },
     "execution_count": 32,
     "metadata": {},
     "output_type": "execute_result"
    }
   ],
   "source": [
    "a[0,2]"
   ]
  },
  {
   "cell_type": "code",
   "execution_count": 12,
   "metadata": {},
   "outputs": [
    {
     "data": {
      "text/plain": [
       "array([[ 0.00000000e+00,             nan,             nan, ...,\n",
       "                    nan,             nan,             nan],\n",
       "       [ 1.00000000e-04,  3.33333360e-05,  3.33333340e-05, ...,\n",
       "        -1.50000000e+17, -1.50000000e+17, -3.20000000e+01],\n",
       "       [ 2.00000000e-04,  6.66666660e-05,  6.66666660e-05, ...,\n",
       "        -9.37500004e+15, -9.37500004e+15, -4.00000000e+00],\n",
       "       ...,\n",
       "       [ 6.99970000e+00, -9.43286685e-02, -9.43286685e-02, ...,\n",
       "         1.52736584e-01,  1.52736584e-01,  0.00000000e+00],\n",
       "       [ 6.99980000e+00, -9.43165903e-02, -9.43165903e-02, ...,\n",
       "         1.52733947e-01,  1.52733947e-01,  0.00000000e+00],\n",
       "       [ 6.99990000e+00, -9.43045116e-02, -9.43045116e-02, ...,\n",
       "         1.52731310e-01,  1.52731310e-01,  0.00000000e+00]])"
      ]
     },
     "execution_count": 12,
     "metadata": {},
     "output_type": "execute_result"
    }
   ],
   "source": [
    "bessel=np.loadtxt('test_b.txt')\n",
    "bessel"
   ]
  },
  {
   "cell_type": "code",
   "execution_count": 21,
   "metadata": {},
   "outputs": [
    {
     "name": "stderr",
     "output_type": "stream",
     "text": [
      "/home/filippo/anaconda3/lib/python3.7/site-packages/ipykernel/eventloops.py:106: UserWarning: Creating legend with loc=\"best\" can be slow with large amounts of data.\n",
      "  app.exec_()\n"
     ]
    }
   ],
   "source": [
    "berr=np.array([bessel[:,i] for i in range(19) if i%3==0])\n",
    "plt.figure()\n",
    "for i in range(berr.shape[0]-1):\n",
    "    plt.plot(berr[0,:], np.abs(berr[i+1,:]), label='{}'.format(i))\n",
    "plt.yscale('symlog', lintreshold=1e-12)\n",
    "plt.legend()\n",
    "plt.grid()\n",
    "plt.show()"
   ]
  },
  {
   "cell_type": "code",
   "execution_count": 10,
   "metadata": {},
   "outputs": [
    {
     "name": "stderr",
     "output_type": "stream",
     "text": [
      "/home/filippo/anaconda3/lib/python3.7/site-packages/ipykernel/eventloops.py:106: UserWarning: Creating legend with loc=\"best\" can be slow with large amounts of data.\n",
      "  app.exec_()\n"
     ]
    }
   ],
   "source": [
    "berr=np.array([bessel[:,i] for i in range(19) if i%3!=0])\n",
    "plt.figure()\n",
    "for i in range(berr.shape[0]):\n",
    "    plt.plot(bessel[:,0], berr[i,:], label='{}'.format(i))\n",
    "plt.legend()\n",
    "plt.grid()\n",
    "plt.show()"
   ]
  },
  {
   "cell_type": "code",
   "execution_count": 19,
   "metadata": {},
   "outputs": [
    {
     "name": "stdout",
     "output_type": "stream",
     "text": [
      "[   nan 2.e-12 0.e+00 ... 0.e+00 0.e+00 0.e+00]\n"
     ]
    }
   ],
   "source": [
    "print(berr[1])"
   ]
  },
  {
   "cell_type": "code",
   "execution_count": null,
   "metadata": {},
   "outputs": [],
   "source": []
  }
 ],
 "metadata": {
  "kernelspec": {
   "display_name": "Python 3",
   "language": "python",
   "name": "python3"
  },
  "language_info": {
   "codemirror_mode": {
    "name": "ipython",
    "version": 3
   },
   "file_extension": ".py",
   "mimetype": "text/x-python",
   "name": "python",
   "nbconvert_exporter": "python",
   "pygments_lexer": "ipython3",
   "version": "3.7.6"
  }
 },
 "nbformat": 4,
 "nbformat_minor": 4
}
