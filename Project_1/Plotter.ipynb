{
 "cells": [
  {
   "cell_type": "markdown",
   "metadata": {},
   "source": [
    "# Script for plotting the eigenfunctions of project 1"
   ]
  },
  {
   "cell_type": "markdown",
   "metadata": {},
   "source": [
    "## Import libraries"
   ]
  },
  {
   "cell_type": "markdown",
   "metadata": {},
   "source": [
    "I import the libraries used for the plots and I define some usefull quantities."
   ]
  },
  {
   "cell_type": "code",
   "execution_count": 1,
   "metadata": {},
   "outputs": [
    {
     "name": "stdout",
     "output_type": "stream",
     "text": [
      "Using matplotlib backend: Qt5Agg\n"
     ]
    }
   ],
   "source": [
    "import numpy as np\n",
    "from scipy import linalg\n",
    "import matplotlib.pyplot as plt\n",
    "import matplotlib\n",
    "%matplotlib"
   ]
  },
  {
   "cell_type": "markdown",
   "metadata": {},
   "source": [
    "## 1D harmonic oscillator"
   ]
  },
  {
   "cell_type": "markdown",
   "metadata": {},
   "source": [
    "I create the x values for the plot"
   ]
  },
  {
   "cell_type": "markdown",
   "metadata": {},
   "source": [
    "I plot the data for the script of the 1D harmonic oscillator:"
   ]
  },
  {
   "cell_type": "code",
   "execution_count": 22,
   "metadata": {},
   "outputs": [],
   "source": [
    "N = 10**4\n",
    "rmax = 10\n",
    "h = rmax/N\n",
    "D1Data = np.loadtxt(\"Eig_1Dh.txt\")\n",
    "x = [(i-N)*h for i in range(0,D1Data.shape[1])]\n",
    "plt.figure()\n",
    "for i in range(D1Data.shape[0]):\n",
    "    plt.plot(x, D1Data[i,:])\n",
    "plt.grid()\n",
    "plt.show()"
   ]
  },
  {
   "cell_type": "markdown",
   "metadata": {
    "collapsed": true
   },
   "source": [
    "Now I load the data to analyse the error due to Numerov. I load the data about the errors."
   ]
  },
  {
   "cell_type": "code",
   "execution_count": 2,
   "metadata": {},
   "outputs": [],
   "source": [
    "Data = np.loadtxt(\"Errors_1D.txt\")"
   ]
  },
  {
   "cell_type": "markdown",
   "metadata": {},
   "source": [
    "Now I plot the data in a log-log plot."
   ]
  },
  {
   "cell_type": "code",
   "execution_count": 3,
   "metadata": {},
   "outputs": [],
   "source": [
    "x = [10**i for i in range(1,Data.shape[1]+1)]\n",
    "for i in range(Data.shape[0]):\n",
    "    plt.figure()\n",
    "    plt.loglog(x, Data[i,:])\n",
    "    plt.grid()\n",
    "    plt.show()"
   ]
  },
  {
   "cell_type": "markdown",
   "metadata": {},
   "source": [
    "The data between 100 and 10000 mesh points seem to be on a line. I want to know the slope of the line (the fit is bad because we technically have only 3 points, but whatever)."
   ]
  },
  {
   "cell_type": "code",
   "execution_count": 4,
   "metadata": {},
   "outputs": [
    {
     "name": "stdout",
     "output_type": "stream",
     "text": [
      "Slopes of the lines\n",
      "[2.68947385 3.74087339 4.19997027 4.40106777 5.41764517]\n",
      "Mean of the slopes\n",
      "4.089806092853121\n",
      "Variance of the slopes\n",
      "0.79097220430094\n"
     ]
    }
   ],
   "source": [
    "slope = np.zeros(Data.shape[0])\n",
    "for j in range(0,Data.shape[0]):\n",
    "    x = np.ones((3,2))\n",
    "    for i in range(x.shape[0]):\n",
    "        x[i][1] = i+2 \n",
    "    y = np.array(-np.log10(Data[j,1:4])).T\n",
    "    beta = np.zeros((1,2))\n",
    "    beta = linalg.inv(x.T .dot(x)) .dot(x.T) .dot(y)\n",
    "    slope[j] = beta[1]\n",
    "\n",
    "# Slopes for different energies\n",
    "print(\"Slopes of the lines\")\n",
    "print(slope)\n",
    "# Mean of the slopes\n",
    "print(\"Mean of the slopes\")\n",
    "print(np.mean(slope))\n",
    "# Variance of the slopes\n",
    "print(\"Variance of the slopes\")\n",
    "print(np.var(slope))"
   ]
  },
  {
   "cell_type": "markdown",
   "metadata": {},
   "source": [
    "## 3D harmonic oscillator"
   ]
  },
  {
   "cell_type": "code",
   "execution_count": 6,
   "metadata": {},
   "outputs": [],
   "source": [
    "N = 10**4\n",
    "rmax = 7\n",
    "h = rmax/N\n",
    "x = [(i-N)*h for i in range(0,N+1)]\n",
    "D3Data = np.loadtxt(\"Eig_3Dh.txt\")\n",
    "plt.figure()\n",
    "for i in range(D3Data.shape[0]):\n",
    "    plt.plot(x, D3Data[i,:])\n",
    "plt.grid()\n",
    "plt.show()"
   ]
  },
  {
   "cell_type": "markdown",
   "metadata": {},
   "source": [
    "## Spherical Bessel function"
   ]
  },
  {
   "cell_type": "code",
   "execution_count": 22,
   "metadata": {},
   "outputs": [],
   "source": [
    "N = 10**4\n",
    "rmax = 10\n",
    "h = rmax/N\n",
    "x = [i*h for i in range(0,N+1)]\n",
    "SphData = np.loadtxt(\"Spherical.txt\")\n",
    "## Bessel\n",
    "plt.figure()\n",
    "plt.plot(x, SphData[0,:])\n",
    "plt.grid()\n",
    "plt.show()\n",
    "## Neumann\n",
    "plt.figure()\n",
    "plt.plot(x[400:], SphData[1,400:])\n",
    "plt.grid()\n",
    "plt.show()"
   ]
  },
  {
   "cell_type": "code",
   "execution_count": 15,
   "metadata": {},
   "outputs": [],
   "source": [
    "N = 10**4\n",
    "rmax = 7\n",
    "h = rmax/N\n",
    "Data = np.loadtxt(\"LJ.txt\")\n",
    "x = [i*h for i in range(0,N+1)]\n",
    "plt.figure()\n",
    "plt.plot(x, Data)\n",
    "plt.grid()\n",
    "plt.show()"
   ]
  },
  {
   "cell_type": "code",
   "execution_count": null,
   "metadata": {},
   "outputs": [],
   "source": []
  }
 ],
 "metadata": {
  "kernelspec": {
   "display_name": "Python 3",
   "language": "python",
   "name": "python3"
  },
  "language_info": {
   "codemirror_mode": {
    "name": "ipython",
    "version": 3
   },
   "file_extension": ".py",
   "mimetype": "text/x-python",
   "name": "python",
   "nbconvert_exporter": "python",
   "pygments_lexer": "ipython3",
   "version": "3.7.6"
  }
 },
 "nbformat": 4,
 "nbformat_minor": 4
}
