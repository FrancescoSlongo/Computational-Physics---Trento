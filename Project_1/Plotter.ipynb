{
 "cells": [
  {
   "cell_type": "markdown",
   "metadata": {},
   "source": [
    "# Script for plotting the eigenfunctions of project 1"
   ]
  },
  {
   "cell_type": "markdown",
   "metadata": {},
   "source": [
    "## Import libraries"
   ]
  },
  {
   "cell_type": "markdown",
   "metadata": {},
   "source": [
    "I import the libraries used for the plots and I define some usefull quantities."
   ]
  },
  {
   "cell_type": "code",
   "execution_count": 1,
   "metadata": {},
   "outputs": [
    {
     "name": "stdout",
     "output_type": "stream",
     "text": [
      "Using matplotlib backend: Qt5Agg\n"
     ]
    }
   ],
   "source": [
    "import numpy as np\n",
    "from scipy import linalg\n",
    "import matplotlib.pyplot as plt\n",
    "import matplotlib\n",
    "%matplotlib"
   ]
  },
  {
   "cell_type": "markdown",
   "metadata": {},
   "source": [
    "## 1D harmonic oscillator"
   ]
  },
  {
   "cell_type": "markdown",
   "metadata": {
    "collapsed": true
   },
   "source": [
    "First I load the data to plot them!"
   ]
  },
  {
   "cell_type": "code",
   "execution_count": 4,
   "metadata": {},
   "outputs": [],
   "source": [
    "## Analytical data\n",
    "Anal0 = np.loadtxt(\"Wf_Anal_0.txt\")\n",
    "Anal1 = np.loadtxt(\"Wf_Anal_1.txt\")\n",
    "Anal2 = np.loadtxt(\"Wf_Anal_2.txt\")\n",
    "Anal3 = np.loadtxt(\"Wf_Anal_3.txt\")\n",
    "Anal4 = np.loadtxt(\"Wf_Anal_4.txt\")\n",
    "Anal5 = np.loadtxt(\"Wf_Anal_5.txt\")\n",
    "Anal6 = np.loadtxt(\"Wf_Anal_6.txt\")\n",
    "Anal7 = np.loadtxt(\"Wf_Anal_7.txt\")\n",
    "Anal8 = np.loadtxt(\"Wf_Anal_8.txt\")\n",
    "Anal9 = np.loadtxt(\"Wf_Anal_9.txt\")\n",
    "## Numerov data\n",
    "Num0 = np.loadtxt(\"Wf_Numerov_0.txt\")\n",
    "Num1 = np.loadtxt(\"Wf_Numerov_1.txt\")\n",
    "Num2 = np.loadtxt(\"Wf_Numerov_2.txt\")\n",
    "Num3 = np.loadtxt(\"Wf_Numerov_3.txt\")\n",
    "Num4 = np.loadtxt(\"Wf_Numerov_4.txt\")\n",
    "Num5 = np.loadtxt(\"Wf_Numerov_5.txt\")\n",
    "Num6 = np.loadtxt(\"Wf_Numerov_6.txt\")\n",
    "Num7 = np.loadtxt(\"Wf_Numerov_7.txt\")\n",
    "Num8 = np.loadtxt(\"Wf_Numerov_8.txt\")\n",
    "Num9 = np.loadtxt(\"Wf_Numerov_9.txt\")\n",
    "## Numerov with exact energy data\n",
    "Exact0 = np.loadtxt(\"Wf_Exact_0.txt\")\n",
    "Exact1 = np.loadtxt(\"Wf_Exact_1.txt\")\n",
    "Exact2 = np.loadtxt(\"Wf_Exact_2.txt\")\n",
    "Exact3 = np.loadtxt(\"Wf_Exact_3.txt\")\n",
    "Exact4 = np.loadtxt(\"Wf_Exact_4.txt\")\n",
    "Exact5 = np.loadtxt(\"Wf_Exact_5.txt\")\n",
    "Exact6 = np.loadtxt(\"Wf_Exact_6.txt\")\n",
    "Exact7 = np.loadtxt(\"Wf_Exact_7.txt\")\n",
    "Exact8 = np.loadtxt(\"Wf_Exact_8.txt\")\n",
    "Exact9 = np.loadtxt(\"Wf_Exact_9.txt\")\n",
    "\n",
    "h = np.loadtxt(\"h.txt\")\n",
    "##\n",
    "rmax = 7"
   ]
  },
  {
   "cell_type": "markdown",
   "metadata": {},
   "source": [
    "First I plot the wave functions all together for the different case."
   ]
  },
  {
   "cell_type": "code",
   "execution_count": 5,
   "metadata": {},
   "outputs": [],
   "source": [
    "N = Anal0.shape[1]\n",
    "x = [(i-(N-1)/2)*h[0] for i in range(0,N)]\n",
    "for i in range(0,5):\n",
    "    plt.figure()\n",
    "    plt.plot(x, Anal0[i,:], label = \"Analytical\")\n",
    "    plt.plot(x, Num0[i,:], label = \"Numerov\")\n",
    "    plt.plot(x, Exact0[i,:], label = \"Numerov exact\")\n",
    "    plt.legend()\n",
    "    plt.grid()\n",
    "    plt.show()"
   ]
  },
  {
   "cell_type": "code",
   "execution_count": 6,
   "metadata": {},
   "outputs": [
    {
     "name": "stdout",
     "output_type": "stream",
     "text": [
      "0.061946902654867256\n"
     ]
    }
   ],
   "source": [
    "N = Anal1.shape[1]\n",
    "x = [(i-(N-1)/2)*h[1] for i in range(0,N)]\n",
    "for i in range(0,5):\n",
    "    plt.figure()\n",
    "    plt.plot(x, Anal1[i,:], label = \"Analytical\")\n",
    "    #plt.plot(x, Num1[i,:], label = \"Numerov\")\n",
    "    plt.plot(x, Exact1[i,:], label = \"Numerov\")\n",
    "    plt.xlabel('$x$')\n",
    "    plt.ylabel('$\\psi(x)$')\n",
    "    plt.legend()\n",
    "    plt.grid(True)\n",
    "    plt.show()\n",
    "    \n",
    "print(h[1])"
   ]
  },
  {
   "cell_type": "code",
   "execution_count": 9,
   "metadata": {},
   "outputs": [],
   "source": [
    "N = Anal2.shape[1]\n",
    "x = [(i-(N-1)/2)*h[2] for i in range(0,N)]\n",
    "for i in range(0,5):\n",
    "    plt.figure()\n",
    "    plt.plot(x, Anal2[i,:], label = \"Analytical\")\n",
    "    plt.plot(x, Num2[i,:], label = \"Numerov\")\n",
    "    plt.plot(x, Exact2[i,:], label = \"Numerov exact\")\n",
    "    plt.legend()\n",
    "    plt.grid()\n",
    "    plt.show()"
   ]
  },
  {
   "cell_type": "code",
   "execution_count": 55,
   "metadata": {},
   "outputs": [],
   "source": [
    "N = Anal3.shape[1]\n",
    "x = [(i-(N-1)/2)*h[3] for i in range(0,N)]\n",
    "for i in range(0,5):\n",
    "    plt.figure()\n",
    "    plt.plot(x, Anal3[i,:], label = \"Analytical\")\n",
    "    plt.plot(x, Num3[i,:], label = \"Numerov\")\n",
    "    plt.plot(x, Exact3[i,:], label = \"Numerov exact\")\n",
    "    plt.legend()\n",
    "    plt.grid()\n",
    "    plt.show()"
   ]
  },
  {
   "cell_type": "code",
   "execution_count": 9,
   "metadata": {},
   "outputs": [
    {
     "name": "stdout",
     "output_type": "stream",
     "text": [
      "0.04375\n"
     ]
    }
   ],
   "source": [
    "N = Anal4.shape[1]\n",
    "print(h[4])\n",
    "x = [(i-(N-1)/2)*h[4] for i in range(0,N)]\n",
    "for i in range(0,5):\n",
    "    plt.figure()\n",
    "    plt.plot(x, Anal4[i,:], label = \"Analytical\")\n",
    "    plt.plot(x, Num4[i,:], label = \"Numerov\")\n",
    "    #plt.plot(x, Exact4[i,:], label = \"Numerov exact\")\n",
    "    plt.legend()\n",
    "    plt.grid()\n",
    "    plt.show()"
   ]
  },
  {
   "cell_type": "code",
   "execution_count": 10,
   "metadata": {},
   "outputs": [
    {
     "name": "stdout",
     "output_type": "stream",
     "text": [
      "0.03888888888888889\n"
     ]
    },
    {
     "name": "stderr",
     "output_type": "stream",
     "text": [
      "The PostScript backend does not support transparency; partially transparent artists will be rendered opaque.\n",
      "The PostScript backend does not support transparency; partially transparent artists will be rendered opaque.\n"
     ]
    }
   ],
   "source": [
    "N = Anal5.shape[1]\n",
    "print(h[5])\n",
    "plt.figure()\n",
    "x = [(i-(N-1)/2)*h[5] for i in range(0,N)]\n",
    "for i in range(0,5):\n",
    "    plt.plot(x, Anal5[i,:], label = \"Analytical E ={}\".format(i))\n",
    "    plt.plot(x, Num5[i,:], label = \"Numerov E ={}\".format(i))\n",
    "    #plt.plot(x, Exact5[i,:], label = \"Numerov exact\")\n",
    "plt.xlabel('$x$')\n",
    "plt.ylabel('$\\psi(x)$')\n",
    "plt.legend()\n",
    "plt.grid(True)\n",
    "plt.show()"
   ]
  },
  {
   "cell_type": "code",
   "execution_count": 16,
   "metadata": {},
   "outputs": [],
   "source": [
    "N = Anal6.shape[1]\n",
    "x = [(i-(N-1)/2)*h[6] for i in range(0,N)]\n",
    "for i in range(0,5):\n",
    "    plt.figure()\n",
    "    plt.plot(x, Anal6[i,:], label = \"Analytical\")\n",
    "    plt.plot(x, Num6[i,:], label = \"Numerov\")\n",
    "    plt.plot(x, Exact6[i,:], label = \"Numerov exact\")\n",
    "    plt.legend()\n",
    "    plt.grid()\n",
    "    plt.show()"
   ]
  },
  {
   "cell_type": "code",
   "execution_count": 9,
   "metadata": {},
   "outputs": [],
   "source": [
    "N = Anal7.shape[1]\n",
    "x = [(i-(N-1)/2)*h[7] for i in range(0,N)]\n",
    "for i in range(0,5):\n",
    "    plt.figure()\n",
    "    plt.plot(x, Anal7[i,:], label = \"Analytical\")\n",
    "    plt.plot(x, Num7[i,:], label = \"Numerov\")\n",
    "    plt.plot(x, Exact7[i,:], label = \"Numerov exact\")\n",
    "    plt.legend()\n",
    "    plt.grid()\n",
    "    plt.show()"
   ]
  },
  {
   "cell_type": "code",
   "execution_count": 18,
   "metadata": {},
   "outputs": [
    {
     "name": "stderr",
     "output_type": "stream",
     "text": [
      "/home/francesco/anaconda3/lib/python3.7/site-packages/ipykernel/eventloops.py:106: UserWarning: Creating legend with loc=\"best\" can be slow with large amounts of data.\n",
      "  app.exec_()\n"
     ]
    }
   ],
   "source": [
    "N = Anal8.shape[1]\n",
    "x = [(i-(N-1)/2)*h[8] for i in range(0,N)]\n",
    "for i in range(0,5):\n",
    "    plt.figure()\n",
    "    plt.plot(x, Anal8[i,:], label = \"Analytical\")\n",
    "    plt.plot(x, Num8[i,:], label = \"Numerov\")\n",
    "    plt.plot(x, Exact8[i,:], label = \"Numerov exact\")\n",
    "    plt.legend()\n",
    "    plt.grid()\n",
    "    plt.show()"
   ]
  },
  {
   "cell_type": "code",
   "execution_count": 51,
   "metadata": {},
   "outputs": [
    {
     "name": "stdout",
     "output_type": "stream",
     "text": [
      "0.05506\n"
     ]
    }
   ],
   "source": [
    "N = Anal9.shape[1]\n",
    "x = [(i-(N-1)/2)*h[9] for i in range(0,N)]\n",
    "for i in range(0,5):\n",
    "    plt.figure()\n",
    "    plt.plot(x, Anal9[i,:], label = \"Analytical\")\n",
    "    #plt.plot(x, Num9[i,:], label = \"Numerov\")\n",
    "    plt.plot(x, Exact9[i,:], label = \"Numerov\")\n",
    "    plt.xlabel('$x$')\n",
    "    plt.ylabel('$\\psi(x)$')\n",
    "    plt.legend()\n",
    "    plt.grid(True)\n",
    "    plt.show()\n",
    "    \n",
    "print(h[9])"
   ]
  },
  {
   "cell_type": "code",
   "execution_count": 3,
   "metadata": {},
   "outputs": [
    {
     "name": "stdout",
     "output_type": "stream",
     "text": [
      "(60, 5)\n"
     ]
    }
   ],
   "source": [
    "## Errors on numerov\n",
    "Err = np.loadtxt(\"Wf_Err.txt\")\n",
    "h = np.loadtxt(\"h.txt\")\n",
    "print(Err.shape)"
   ]
  },
  {
   "cell_type": "code",
   "execution_count": 6,
   "metadata": {},
   "outputs": [
    {
     "name": "stderr",
     "output_type": "stream",
     "text": [
      "The PostScript backend does not support transparency; partially transparent artists will be rendered opaque.\n",
      "The PostScript backend does not support transparency; partially transparent artists will be rendered opaque.\n"
     ]
    }
   ],
   "source": [
    "plt.figure()\n",
    "for i in range(0,5):\n",
    "    plt.loglog(h, Err[:,i], label=(\"E={}\".format(i+0.5)))\n",
    "    plt.xlabel(\"mesh step $h$\")\n",
    "    plt.ylabel(\"$\\epsilon$\")\n",
    "    plt.grid(True)\n",
    "    plt.legend()\n",
    "    \n",
    "plt.show()"
   ]
  },
  {
   "cell_type": "markdown",
   "metadata": {},
   "source": [
    "## 3D harmonic oscillator"
   ]
  },
  {
   "cell_type": "code",
   "execution_count": 6,
   "metadata": {},
   "outputs": [],
   "source": [
    "N = 10**4\n",
    "rmax = 7\n",
    "h = rmax/N\n",
    "x = [(i-N)*h for i in range(0,N+1)]\n",
    "D3Data = np.loadtxt(\"Eig_3Dh.txt\")\n",
    "plt.figure()\n",
    "for i in range(D3Data.shape[0]):\n",
    "    plt.plot(x, D3Data[i,:])\n",
    "plt.grid()\n",
    "plt.show()"
   ]
  },
  {
   "cell_type": "code",
   "execution_count": 55,
   "metadata": {},
   "outputs": [
    {
     "name": "stdout",
     "output_type": "stream",
     "text": [
      "(5, 60)\n"
     ]
    }
   ],
   "source": [
    "## Errors in 3D harmonic oscillator\n",
    "Err = np.loadtxt(\"Err_3D.txt\")\n",
    "h = np.loadtxt(\"h.txt\")\n",
    "print(Err.shape)"
   ]
  },
  {
   "cell_type": "code",
   "execution_count": 56,
   "metadata": {},
   "outputs": [],
   "source": [
    "plt.figure()\n",
    "for i in range(0,5):\n",
    "    plt.loglog(h, Err[i,:], label=(\"E={}\".format(2*i+1.5+1)))\n",
    "    plt.grid(True)\n",
    "    plt.legend()\n",
    "    \n",
    "plt.show()"
   ]
  },
  {
   "cell_type": "markdown",
   "metadata": {},
   "source": [
    "## Spherical Bessel function"
   ]
  },
  {
   "cell_type": "code",
   "execution_count": 25,
   "metadata": {},
   "outputs": [],
   "source": [
    "N = 10**4\n",
    "rmax = 10\n",
    "h = rmax/N\n",
    "x = [i*h for i in range(0,N+1)]\n",
    "SphData = np.loadtxt(\"Spherical.txt\")\n",
    "## Bessel\n",
    "plt.figure()\n",
    "plt.plot(x, SphData[0,:])\n",
    "plt.grid()\n",
    "plt.show()\n",
    "## Neumann\n",
    "plt.figure()\n",
    "plt.plot(x[400:], SphData[1,400:])\n",
    "plt.grid()\n",
    "plt.show()"
   ]
  },
  {
   "cell_type": "code",
   "execution_count": 15,
   "metadata": {},
   "outputs": [],
   "source": [
    "N = 10**4\n",
    "rmax = 7\n",
    "h = rmax/N\n",
    "Data = np.loadtxt(\"LJ.txt\")\n",
    "x = [i*h for i in range(0,N+1)]\n",
    "plt.figure()\n",
    "plt.plot(x, Data)\n",
    "plt.grid()\n",
    "plt.show()"
   ]
  },
  {
   "cell_type": "markdown",
   "metadata": {},
   "source": [
    "## Total cross section"
   ]
  },
  {
   "cell_type": "code",
   "execution_count": 129,
   "metadata": {},
   "outputs": [
    {
     "name": "stdout",
     "output_type": "stream",
     "text": [
      "(600, 2)\n"
     ]
    }
   ],
   "source": [
    "## Total cross section\n",
    "Cross = np.loadtxt(\"Cross.txt\")\n",
    "print(Cross.shape)\n",
    "plt.figure()\n",
    "plt.plot(Cross[:,0], Cross[:,1])\n",
    "plt.xlabel('$E [\\epsilon]$')\n",
    "plt.ylabel('$\\sigma_{tot}[\\sigma^2]$')\n",
    "plt.grid(True)\n",
    "plt.show()"
   ]
  },
  {
   "cell_type": "code",
   "execution_count": 84,
   "metadata": {},
   "outputs": [
    {
     "name": "stderr",
     "output_type": "stream",
     "text": [
      "The PostScript backend does not support transparency; partially transparent artists will be rendered opaque.\n",
      "The PostScript backend does not support transparency; partially transparent artists will be rendered opaque.\n",
      "The PostScript backend does not support transparency; partially transparent artists will be rendered opaque.\n",
      "The PostScript backend does not support transparency; partially transparent artists will be rendered opaque.\n"
     ]
    }
   ],
   "source": [
    "Cross1 = np.loadtxt(\"Cross1.txt\")\n",
    "Cross2 = np.loadtxt(\"Cross2.txt\")\n",
    "plt.figure()\n",
    "plt.plot(Cross1[:,0], Cross1[:,1], label = \"$\\sigma_{tot}$ with l up to 6\")\n",
    "plt.plot(Cross2[:,0], Cross2[:,1], label = \"$\\sigma_{tot}$ with l up to 15\")\n",
    "plt.xlabel('$E [\\epsilon]$')\n",
    "plt.ylabel('$\\sigma_{tot}[\\sigma^2]$')\n",
    "plt.legend()\n",
    "plt.grid(True)\n",
    "plt.show()\n",
    "\n",
    "plt.figure()\n",
    "plt.plot(Cross1[200:,0], Cross1[200:,1], label = \"$\\sigma_{tot}$ with l up to 6\")\n",
    "plt.plot(Cross2[200:,0], Cross2[200:,1], label = \"$\\sigma_{tot}$ with l up to 15\")\n",
    "plt.xlabel('$E [\\epsilon]$')\n",
    "plt.ylabel('$\\sigma_{tot}[\\sigma^2]$')\n",
    "plt.legend()\n",
    "plt.grid(True)\n",
    "plt.show()"
   ]
  },
  {
   "cell_type": "code",
   "execution_count": 22,
   "metadata": {},
   "outputs": [
    {
     "name": "stdout",
     "output_type": "stream",
     "text": [
      "(10001,)\n"
     ]
    }
   ],
   "source": [
    "## Total cross section\n",
    "wf = np.loadtxt(\"LJ_peak1.txt\")\n",
    "print(wf.shape)\n",
    "\n",
    "h = 7/10**4\n",
    "plt.figure()\n",
    "N = wf.shape[0]\n",
    "x = [i*h for i in range(0,N)]\n",
    "plt.plot(x, wf**2)\n",
    "plt.grid(True)\n",
    "\n",
    "plt.show()"
   ]
  },
  {
   "cell_type": "code",
   "execution_count": 2,
   "metadata": {},
   "outputs": [],
   "source": [
    "## Total cross section\n",
    "Veff = np.loadtxt(\"LJ_EffV.txt\")\n",
    "\n",
    "h = 7/10**4"
   ]
  },
  {
   "cell_type": "code",
   "execution_count": 4,
   "metadata": {},
   "outputs": [],
   "source": [
    "N = Veff.shape[1]\n",
    "x = [i*h for i in range(0,N)]\n",
    "plt.figure()\n",
    "for i in range(0,7):\n",
    "    plt.plot(x, Veff[i,:], label=(\"l={}\".format(i)))\n",
    "    plt.grid(True)\n",
    "    plt.legend(loc='lower right')\n",
    "    plt.ylim([-1.05,0.4])\n",
    "    \n",
    "plt.xlabel('$r [\\sigma]$')\n",
    "plt.ylabel('$V_{eff} [\\epsilon]$')\n",
    "plt.show()\n",
    "\n",
    "plt.figure()\n",
    "for i in range(0,7):\n",
    "    plt.plot(x, Veff[i,:], label=(\"l={}\".format(i)))\n",
    "    plt.grid(True)\n",
    "    plt.legend(loc='best')\n",
    "    plt.ylim([-0.02,0.37])\n",
    "    \n",
    "plt.xlabel('$r [\\sigma]$')\n",
    "plt.ylabel('$V_{eff} [\\epsilon]$')\n",
    "plt.show()"
   ]
  },
  {
   "cell_type": "code",
   "execution_count": 14,
   "metadata": {},
   "outputs": [],
   "source": [
    "## Peaks of cross section\n",
    "CrossPeak1 = np.loadtxt(\"Cross_peak1.txt\")\n",
    "plt.figure()\n",
    "plt.plot(CrossPeak1[:,0], CrossPeak1[:,1])\n",
    "plt.xlabel('$E [\\epsilon]$')\n",
    "plt.ylabel('$\\sigma_{tot}[\\sigma^2]$')\n",
    "plt.grid(True)\n",
    "plt.show()\n",
    "\n",
    "CrossPeak2 = np.loadtxt(\"Cross_peak2.txt\")\n",
    "plt.figure()\n",
    "plt.plot(CrossPeak2[:,0], CrossPeak2[:,1])\n",
    "plt.xlabel('$E [\\epsilon]$')\n",
    "plt.ylabel('$\\sigma_{tot}[\\sigma^2]$')\n",
    "plt.grid(True)\n",
    "plt.show()\n",
    "\n",
    "CrossPeak3 = np.loadtxt(\"Cross_peak3.txt\")\n",
    "plt.figure()\n",
    "plt.plot(CrossPeak3[:,0], CrossPeak3[:,1])\n",
    "plt.xlabel('$E [\\epsilon]$')\n",
    "plt.ylabel('$\\sigma_{tot}[\\sigma^2]$')\n",
    "plt.grid(True)\n",
    "plt.show()"
   ]
  },
  {
   "cell_type": "code",
   "execution_count": 160,
   "metadata": {},
   "outputs": [
    {
     "name": "stdout",
     "output_type": "stream",
     "text": [
      "(63, 2)\n"
     ]
    },
    {
     "name": "stderr",
     "output_type": "stream",
     "text": [
      "The PostScript backend does not support transparency; partially transparent artists will be rendered opaque.\n",
      "The PostScript backend does not support transparency; partially transparent artists will be rendered opaque.\n"
     ]
    }
   ],
   "source": [
    "## Plot from point that of the paper\n",
    "experimental = np.array([[279.4846, 223.103],[281.5476, 279.6771],[289.9532, 312.3674],[291.3783, 344.6198],\n",
    "                         [300.814, 387.7481],[309.0362, 446.0267],[309.0362, 435.2033],[314.3852, 424.6426],\n",
    "                         [322.1876, 379.2695],[330.9941, 356.678],[329.3752, 347.1689],[339.2087, 302.5495],\n",
    "                         [352.7782, 275.5851],[368.6938, 249.7935],[382.5039, 231.4773],[391.0371, 209.2989],\n",
    "                         [393.9236, 266.9233],[406.6799, 241.3487],[436.6447, 257.8994],[449.6808, 264.9634],\n",
    "                         [475.7642, 280.3649],[461.9721, 307.7971],[481.6318, 302.5495],[496.0109, 324.8894],\n",
    "                         [494.7964, 335.4322],[508.3209, 360.2],[518.3885, 358.4347],[529.953, 370.9763],\n",
    "                         [552.5058, 373.7203],[553.8619, 385.8477],[578.8494, 376.4847],[578.8494, 370.9763],\n",
    "                         [596.1309, 364.6516],[618.4602, 339.5776],[630.7092, 343.7743],[652.7315, 319.3504],\n",
    "                         [680.5092, 329.7135],[705.999, 348.0228],[737.8502, 343.7743],[752.4637, 355.8029],\n",
    "                         [771.1383, 340.4128],[788.3414, 344.6198],[807.9065, 338.7444],[844.3552, 330.5244],\n",
    "                         [871.6978, 323.2971],[913.2606, 319.3504],[954.4624, 317.7852],[945.1487, 311.601],\n",
    "                         [949.7941, 304.7874],[1012.304, 309.313],[1012.304, 299.5912],[1055.3837, 285.9293],\n",
    "                         [1164.1188, 266.2684],[1193.0099, 262.3725],[1193.0099, 253.5025],[1284.0567, 246.1387],\n",
    "                         [1368.5659, 233.1895],[1392.2538, 224.2018],[1509.5677, 206.7439],[1656.9529, 186.9353],\n",
    "                         [1845.6773, 171.1135],[1938.426, 158.5665],[2076.1563, 152.8299]])\n",
    "\n",
    "print(experimental.shape)\n",
    "\n",
    "plt.figure()\n",
    "plt.loglog(Cross[70:,0]*5.9, Cross[70:,1]*(3.18**2), label = 'Theoretical model')\n",
    "plt.scatter(0.0000051675*experimental[:,0]**2, experimental[:,1],s=20, c='orange', marker='o', label = 'Experimental points')\n",
    "plt.xlabel('$E [meV]$')\n",
    "plt.ylabel('$\\sigma_{tot}[\\AA^2]$')\n",
    "plt.legend()\n",
    "plt.grid(True)\n",
    "plt.show()\n",
    "\n",
    "plt.figure()\n",
    "plt.loglog(Cross2[70:,0]*5.9, Cross2[70:,1]*(3.18**2), label = 'Theoretical model')\n",
    "plt.scatter(0.0000051675*experimental[:,0]**2, experimental[:,1], s=20, c='orange', marker='o', label = 'Experimental points')\n",
    "plt.xlabel('$E [meV]$')\n",
    "plt.ylabel('$\\sigma_{tot}[\\AA^2]$')\n",
    "plt.legend()\n",
    "plt.grid(True)\n",
    "plt.show()"
   ]
  },
  {
   "cell_type": "code",
   "execution_count": 5,
   "metadata": {},
   "outputs": [
    {
     "name": "stderr",
     "output_type": "stream",
     "text": [
      "The PostScript backend does not support transparency; partially transparent artists will be rendered opaque.\n",
      "The PostScript backend does not support transparency; partially transparent artists will be rendered opaque.\n",
      "The PostScript backend does not support transparency; partially transparent artists will be rendered opaque.\n",
      "The PostScript backend does not support transparency; partially transparent artists will be rendered opaque.\n"
     ]
    }
   ],
   "source": [
    "wf1 = np.loadtxt(\"LJ_peak1.txt\")\n",
    "wf2 = np.loadtxt(\"LJ_peak2.txt\")\n",
    "wf3 = np.loadtxt(\"LJ_peak3.txt\")\n",
    "\n",
    "h = 7/10**4\n",
    "plt.figure()\n",
    "N = wf3.shape\n",
    "plt.plot(x, 1000*wf1[:10000]**2, label = '$|\\psi|^2$')\n",
    "plt.plot(x[:], Veff[4,:], label = '$V_{eff}$')\n",
    "plt.plot(x[:], np.ones(10000)*0.0815, label = '$E$')\n",
    "plt.xlabel('$r[\\sigma]$')\n",
    "plt.grid(True)\n",
    "plt.legend()\n",
    "plt.ylim([-0.005,0.22])\n",
    "plt.show()\n",
    "\n",
    "h = 7/10**4\n",
    "plt.figure()\n",
    "N = wf3.shape\n",
    "plt.plot(x, 1000*wf2[:10000]**2, label = '$|\\psi|^2$')\n",
    "plt.plot(x[:], Veff[5,:], label = '$V_{eff}$')\n",
    "plt.plot(x[:], np.ones(10000)*0.2423, label = '$E$')\n",
    "plt.xlabel('$r[\\sigma]$')\n",
    "plt.grid(True)\n",
    "plt.legend()\n",
    "plt.ylim([-0.005,0.35])\n",
    "plt.show()\n",
    "\n",
    "h = 7/10**4\n",
    "plt.figure()\n",
    "N = wf3.shape\n",
    "plt.plot(x, 1000*wf3[:10000]**2, label = '$|\\psi|^2$')\n",
    "plt.plot(x[:], Veff[6,:], label = '$V_{eff}$')\n",
    "plt.plot(x[:], np.ones(10000)*0.467, label = 'E')\n",
    "plt.xlabel('$r[\\sigma]$')\n",
    "plt.grid(True)\n",
    "plt.legend()\n",
    "plt.ylim([-0.005,0.55])\n",
    "plt.show()"
   ]
  },
  {
   "cell_type": "code",
   "execution_count": null,
   "metadata": {},
   "outputs": [],
   "source": []
  }
 ],
 "metadata": {
  "kernelspec": {
   "display_name": "Python 3",
   "language": "python",
   "name": "python3"
  },
  "language_info": {
   "codemirror_mode": {
    "name": "ipython",
    "version": 3
   },
   "file_extension": ".py",
   "mimetype": "text/x-python",
   "name": "python",
   "nbconvert_exporter": "python",
   "pygments_lexer": "ipython3",
   "version": "3.7.6"
  }
 },
 "nbformat": 4,
 "nbformat_minor": 4
}
